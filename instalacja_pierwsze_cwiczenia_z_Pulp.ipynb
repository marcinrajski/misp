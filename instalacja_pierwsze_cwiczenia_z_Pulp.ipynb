{
 "cells": [
  {
   "cell_type": "code",
   "execution_count": null,
   "metadata": {
    "colab": {
     "base_uri": "https://localhost:8080/",
     "height": 215
    },
    "id": "BjX-mj9e8D5a",
    "outputId": "a53b8a45-9e84-4a48-fa91-5597eeb80850"
   },
   "outputs": [
    {
     "name": "stdout",
     "output_type": "stream",
     "text": [
      "Requirement already satisfied: pulp in /usr/local/lib/python3.6/dist-packages (2.3)\n",
      "Requirement already satisfied: amply>=0.1.2 in /usr/local/lib/python3.6/dist-packages (from pulp) (0.1.4)\n",
      "Requirement already satisfied: pyparsing in /usr/local/lib/python3.6/dist-packages (from amply>=0.1.2->pulp) (2.4.7)\n",
      "Requirement already satisfied: docutils>=0.3 in /usr/local/lib/python3.6/dist-packages (from amply>=0.1.2->pulp) (0.16)\n",
      "Reading package lists... Done\n",
      "Building dependency tree       \n",
      "Reading state information... Done\n",
      "coinor-cbc is already the newest version (2.9.9+repack1-1).\n",
      "coinor-clp is already the newest version (1.16.11+repack1-1).\n",
      "glpk-utils is already the newest version (4.65-1).\n",
      "0 upgraded, 0 newly installed, 0 to remove and 21 not upgraded.\n"
     ]
    }
   ],
   "source": [
    "!pip install pulp\n",
    "\n",
    "!sudo apt-get install coinor-cbc glpk-utils coinor-clp\n"
   ]
  },
  {
   "cell_type": "code",
   "execution_count": 1,
   "metadata": {
    "colab": {
     "base_uri": "https://localhost:8080/",
     "height": 35
    },
    "id": "HMGiufp89W-9",
    "outputId": "9e6761ea-6310-4ebe-ec96-bffc23a0215c"
   },
   "outputs": [
    {
     "name": "stdout",
     "output_type": "stream",
     "text": [
      "2.3.1\n"
     ]
    }
   ],
   "source": [
    "### kod sprawdza czy instalacja się udała\n",
    "import pulp\n",
    "\n",
    "print(pulp.__version__)"
   ]
  },
  {
   "cell_type": "code",
   "execution_count": 2,
   "metadata": {
    "colab": {
     "base_uri": "https://localhost:8080/",
     "height": 1000
    },
    "id": "05p9Frax-V2f",
    "outputId": "15f6160b-c4cc-46ba-d7eb-aa23416c0ac5"
   },
   "outputs": [
    {
     "name": "stderr",
     "output_type": "stream",
     "text": [
      ".."
     ]
    },
    {
     "name": "stdout",
     "output_type": "stream",
     "text": [
      "Solver <class 'pulp.apis.coin_api.PULP_CBC_CMD'> available\n",
      "Solver <class 'pulp.apis.cplex_api.CPLEX_DLL'> unavailable\n",
      "Solver <class 'pulp.apis.cplex_api.CPLEX_CMD'> unavailable\n",
      "Solver <class 'pulp.apis.cplex_api.CPLEX_PY'> unavailable\n",
      "Solver <class 'pulp.apis.coin_api.COIN_CMD'> unavailable\n",
      "Solver <class 'pulp.apis.coin_api.COINMP_DLL'> unavailable\n",
      "Solver <class 'pulp.apis.glpk_api.GLPK_CMD'> available\n",
      "Solver <class 'pulp.apis.xpress_api.XPRESS'> unavailable\n",
      "Solver <class 'pulp.apis.gurobi_api.GUROBI'> unavailable\n",
      "Solver <class 'pulp.apis.gurobi_api.GUROBI_CMD'> unavailable\n",
      "Solver <class 'pulp.apis.glpk_api.PYGLPK'> unavailable\n",
      "Solver <class 'pulp.apis.coin_api.YAPOSIB'> unavailable\n",
      "Solver <class 'pulp.apis.choco_api.PULP_CHOCO_CMD'> available\n",
      "Solver <class 'pulp.apis.choco_api.CHOCO_CMD'> unavailable\n",
      "Solver <class 'pulp.apis.mipcl_api.MIPCL_CMD'> unavailable\n",
      "Solver <class 'pulp.apis.mosek_api.MOSEK'> unavailable\n",
      "Solver <class 'pulp.apis.scip_api.SCIP_CMD'> unavailable\n",
      "\t Testing invalid status\n",
      "\t Testing continuous LP solution - export dict\n"
     ]
    },
    {
     "name": "stderr",
     "output_type": "stream",
     "text": [
      ".........."
     ]
    },
    {
     "name": "stdout",
     "output_type": "stream",
     "text": [
      "\t Testing MIP solution\n",
      "\t Testing maximize continuous LP solution\n",
      "\t Testing continuous LP solution - export JSON\n",
      "\t Testing continuous LP solution - export solver dict\n",
      "\t Testing continuous LP solution - export solver JSON\n",
      "\t Testing makeDict general behavior\n",
      "\t Testing makeDict default value behavior\n",
      "\t Testing the availability of the function pulpTestAll\n",
      "\t Testing zero subtraction\n",
      "\t Testing inconsistent lp solution\n"
     ]
    },
    {
     "name": "stderr",
     "output_type": "stream",
     "text": [
      "........"
     ]
    },
    {
     "name": "stdout",
     "output_type": "stream",
     "text": [
      "\t Testing continuous LP solution\n",
      "\t Testing maximize continuous LP solution\n",
      "\t Testing unbounded continuous LP solution\n",
      "\t Testing Long Names\n",
      "\t Testing repeated Names\n",
      "\t Testing zero constraint\n",
      "\t Testing zero objective\n"
     ]
    },
    {
     "name": "stderr",
     "output_type": "stream",
     "text": [
      "......."
     ]
    },
    {
     "name": "stdout",
     "output_type": "stream",
     "text": [
      "\t Testing LpVariable (not LpAffineExpression) objective\n",
      "\t Testing Long lines in LP\n",
      "\t Testing LpAffineExpression divide\n",
      "\t Testing MIP solution\n",
      "\t Testing MIP solution with floats in objective\n",
      "\t Testing MIP solution\n",
      "\t Testing MIP solution\n"
     ]
    },
    {
     "name": "stderr",
     "output_type": "stream",
     "text": [
      "......"
     ]
    },
    {
     "name": "stdout",
     "output_type": "stream",
     "text": [
      "\t Testing MIP relaxation\n",
      "\t Testing feasibility problem (no objective)\n",
      "\t Testing an infeasible problem\n",
      "\t Testing an integer infeasible problem\n",
      "\t Testing another integer infeasible problem\n",
      "\t Testing column based modelling\n"
     ]
    },
    {
     "name": "stderr",
     "output_type": "stream",
     "text": [
      "........"
     ]
    },
    {
     "name": "stdout",
     "output_type": "stream",
     "text": [
      "\t Testing dual variables and slacks reporting\n",
      "\t Testing fractional constraints\n",
      "\t Testing elastic constraints (no change)\n",
      "\t Testing elastic constraints (freebound)\n",
      "\t Testing elastic constraints (penalty unchanged)\n"
     ]
    },
    {
     "name": "stderr",
     "output_type": "stream",
     "text": [
      "...."
     ]
    },
    {
     "name": "stdout",
     "output_type": "stream",
     "text": [
      "\t Testing elastic constraints (penalty unbounded)\n",
      "\t Testing invalid status\n",
      "\t Testing continuous LP solution - export dict\n"
     ]
    },
    {
     "name": "stderr",
     "output_type": "stream",
     "text": [
      "..........."
     ]
    },
    {
     "name": "stdout",
     "output_type": "stream",
     "text": [
      "\t Testing MIP solution\n",
      "\t Testing maximize continuous LP solution\n",
      "\t Testing continuous LP solution - export JSON\n",
      "\t Testing continuous LP solution - export solver dict\n",
      "\t Testing continuous LP solution - export solver JSON\n",
      "\t Testing makeDict general behavior\n",
      "\t Testing makeDict default value behavior\n",
      "\t Testing the availability of the function pulpTestAll\n",
      "\t Testing zero subtraction\n",
      "\t Testing inconsistent lp solution\n",
      "\t Testing continuous LP solution"
     ]
    },
    {
     "name": "stderr",
     "output_type": "stream",
     "text": [
      "........"
     ]
    },
    {
     "name": "stdout",
     "output_type": "stream",
     "text": [
      "\n",
      "\t Testing maximize continuous LP solution\n",
      "\t Testing unbounded continuous LP solution\n",
      "\t Testing Long Names\n",
      "\t Testing repeated Names\n",
      "\t Testing zero constraint\n",
      "\t Testing zero objective\n",
      "\t Testing LpVariable (not LpAffineExpression) objective\n"
     ]
    },
    {
     "name": "stderr",
     "output_type": "stream",
     "text": [
      "......."
     ]
    },
    {
     "name": "stdout",
     "output_type": "stream",
     "text": [
      "\t Testing LpAffineExpression divide\n",
      "\t Testing MIP solution\n",
      "\t Testing MIP solution with floats in objective\n",
      "\t Testing MIP solution\n",
      "\t Testing MIP solution\n",
      "\t Testing MIP relaxation\n",
      "\t Testing feasibility problem (no objective)\n"
     ]
    },
    {
     "name": "stderr",
     "output_type": "stream",
     "text": [
      ".........."
     ]
    },
    {
     "name": "stdout",
     "output_type": "stream",
     "text": [
      "\t Testing an infeasible problem\n",
      "\t Testing an integer infeasible problem\n",
      "\t Testing another integer infeasible problem\n",
      "\t Testing column based modelling\n",
      "\t Testing fractional constraints\n"
     ]
    },
    {
     "name": "stderr",
     "output_type": "stream",
     "text": [
      "......E"
     ]
    },
    {
     "name": "stdout",
     "output_type": "stream",
     "text": [
      "\t Testing elastic constraints (no change)\n",
      "\t Testing elastic constraints (freebound)\n",
      "\t Testing elastic constraints (penalty unchanged)\n",
      "\t Testing elastic constraints (penalty unbounded)\n",
      "\t Testing invalid status\n",
      "\t Testing continuous LP solution - export dict\n"
     ]
    },
    {
     "name": "stderr",
     "output_type": "stream",
     "text": [
      "EEEEE......EE.E"
     ]
    },
    {
     "name": "stdout",
     "output_type": "stream",
     "text": [
      "\t Testing MIP solution\n",
      "\t Testing maximize continuous LP solution\n",
      "\t Testing continuous LP solution - export JSON\n",
      "\t Testing continuous LP solution - export solver dict\n",
      "\t Testing continuous LP solution - export solver JSON\n",
      "\t Testing makeDict general behavior\n",
      "\t Testing makeDict default value behavior\n",
      "\t Testing the availability of the function pulpTestAll\n",
      "\t Testing zero subtraction\n",
      "\t Testing inconsistent lp solution\n",
      "\t Testing continuous LP solution\n",
      "\t Testing maximize continuous LP solution\n",
      "\t Testing unbounded continuous LP solution\n",
      "\t Testing Long Names\n"
     ]
    },
    {
     "name": "stderr",
     "output_type": "stream",
     "text": [
      ".EEE.EEEEEE:\\Anaconda3\\lib\\site-packages\\pulp\\apis\\choco_api.py:83: UserWarning: CHOCO_CMD cannot solve the relaxation of a problem\n",
      "  warnings.warn(\"CHOCO_CMD cannot solve the relaxation of a problem\")\n",
      "E"
     ]
    },
    {
     "name": "stdout",
     "output_type": "stream",
     "text": [
      "\t Testing repeated Names\n",
      "\t Testing zero constraint\n",
      "\t Testing zero objective\n",
      "\t Testing LpVariable (not LpAffineExpression) objective\n",
      "\t Testing LpAffineExpression divide\n",
      "\t Testing MIP solution\n",
      "\t Testing MIP solution with floats in objective\n",
      "\t Testing MIP solution\n",
      "\t Testing MIP solution\n",
      "\t Testing MIP relaxation\n"
     ]
    },
    {
     "name": "stderr",
     "output_type": "stream",
     "text": [
      "EEEEE..E.EE"
     ]
    },
    {
     "name": "stdout",
     "output_type": "stream",
     "text": [
      "\t Testing feasibility problem (no objective)\n",
      "\t Testing an infeasible problem\n",
      "\t Testing an integer infeasible problem\n",
      "\t Testing another integer infeasible problem\n",
      "\t Testing column based modelling\n",
      "\t Testing fractional constraints\n",
      "\t Testing elastic constraints (no change)\n",
      "\t Testing elastic constraints (freebound)\n"
     ]
    },
    {
     "name": "stderr",
     "output_type": "stream",
     "text": [
      "EE................"
     ]
    },
    {
     "name": "stdout",
     "output_type": "stream",
     "text": [
      "\t Testing elastic constraints (penalty unchanged)\n",
      "\t Testing elastic constraints (penalty unbounded)\n"
     ]
    },
    {
     "name": "stderr",
     "output_type": "stream",
     "text": [
      "................."
     ]
    },
    {
     "name": "stdout",
     "output_type": "stream",
     "text": [
      "{'a': 53.0, 'b': 45.3, 'c': 459.2}\n"
     ]
    },
    {
     "name": "stderr",
     "output_type": "stream",
     "text": [
      "............\n",
      "======================================================================\n",
      "ERROR: test_export_dict_LP (pulp.tests.test_pulp.PuLPTest)\n",
      "----------------------------------------------------------------------\n",
      "Traceback (most recent call last):\n",
      "  File \"E:\\Anaconda3\\lib\\site-packages\\pulp\\tests\\test_pulp.py\", line 680, in test_export_dict_LP\n",
      "    pulpTestCheck(prob1, self.solver, [const.LpStatusOptimal], {x: 4, y: -1, z: 6, w: 0})\n",
      "  File \"E:\\Anaconda3\\lib\\site-packages\\pulp\\tests\\test_pulp.py\", line 870, in pulpTestCheck\n",
      "    status = prob.solve(solver, **kwargs)\n",
      "  File \"E:\\Anaconda3\\lib\\site-packages\\pulp\\pulp.py\", line 1899, in solve\n",
      "    status = solver.actualSolve(self, **kwargs)\n",
      "  File \"E:\\Anaconda3\\lib\\site-packages\\pulp\\apis\\choco_api.py\", line 92, in actualSolve\n",
      "    raise PulpSolverError(\"PuLP: Error while trying to execute \"+self.path)\n",
      "pulp.apis.core.PulpSolverError: PuLP: Error while trying to execute E:\\Anaconda3\\lib\\site-packages\\pulp\\apis\\../solverdir/choco/choco-parsers-with-dependencies.jar\n",
      "\n",
      "======================================================================\n",
      "ERROR: test_export_dict_MIP (pulp.tests.test_pulp.PuLPTest)\n",
      "----------------------------------------------------------------------\n",
      "Traceback (most recent call last):\n",
      "  File \"E:\\Anaconda3\\lib\\site-packages\\pulp\\tests\\test_pulp.py\", line 720, in test_export_dict_MIP\n",
      "    pulpTestCheck(prob1, self.solver, [const.LpStatusOptimal], {x: 3, y: -0.5, z: 7})\n",
      "  File \"E:\\Anaconda3\\lib\\site-packages\\pulp\\tests\\test_pulp.py\", line 870, in pulpTestCheck\n",
      "    status = prob.solve(solver, **kwargs)\n",
      "  File \"E:\\Anaconda3\\lib\\site-packages\\pulp\\pulp.py\", line 1899, in solve\n",
      "    status = solver.actualSolve(self, **kwargs)\n",
      "  File \"E:\\Anaconda3\\lib\\site-packages\\pulp\\apis\\choco_api.py\", line 92, in actualSolve\n",
      "    raise PulpSolverError(\"PuLP: Error while trying to execute \"+self.path)\n",
      "pulp.apis.core.PulpSolverError: PuLP: Error while trying to execute E:\\Anaconda3\\lib\\site-packages\\pulp\\apis\\../solverdir/choco/choco-parsers-with-dependencies.jar\n",
      "\n",
      "======================================================================\n",
      "ERROR: test_export_dict_max (pulp.tests.test_pulp.PuLPTest)\n",
      "----------------------------------------------------------------------\n",
      "Traceback (most recent call last):\n",
      "  File \"E:\\Anaconda3\\lib\\site-packages\\pulp\\tests\\test_pulp.py\", line 739, in test_export_dict_max\n",
      "    pulpTestCheck(prob1, self.solver, [const.LpStatusOptimal], {x: 4, y: 1, z: 8, w: 0})\n",
      "  File \"E:\\Anaconda3\\lib\\site-packages\\pulp\\tests\\test_pulp.py\", line 870, in pulpTestCheck\n",
      "    status = prob.solve(solver, **kwargs)\n",
      "  File \"E:\\Anaconda3\\lib\\site-packages\\pulp\\pulp.py\", line 1899, in solve\n",
      "    status = solver.actualSolve(self, **kwargs)\n",
      "  File \"E:\\Anaconda3\\lib\\site-packages\\pulp\\apis\\choco_api.py\", line 92, in actualSolve\n",
      "    raise PulpSolverError(\"PuLP: Error while trying to execute \"+self.path)\n",
      "pulp.apis.core.PulpSolverError: PuLP: Error while trying to execute E:\\Anaconda3\\lib\\site-packages\\pulp\\apis\\../solverdir/choco/choco-parsers-with-dependencies.jar\n",
      "\n",
      "======================================================================\n",
      "ERROR: test_export_json_LP (pulp.tests.test_pulp.PuLPTest)\n",
      "----------------------------------------------------------------------\n",
      "Traceback (most recent call last):\n",
      "  File \"E:\\Anaconda3\\lib\\site-packages\\pulp\\tests\\test_pulp.py\", line 703, in test_export_json_LP\n",
      "    pulpTestCheck(prob1, self.solver, [const.LpStatusOptimal], {x: 4, y: -1, z: 6, w: 0})\n",
      "  File \"E:\\Anaconda3\\lib\\site-packages\\pulp\\tests\\test_pulp.py\", line 870, in pulpTestCheck\n",
      "    status = prob.solve(solver, **kwargs)\n",
      "  File \"E:\\Anaconda3\\lib\\site-packages\\pulp\\pulp.py\", line 1899, in solve\n",
      "    status = solver.actualSolve(self, **kwargs)\n",
      "  File \"E:\\Anaconda3\\lib\\site-packages\\pulp\\apis\\choco_api.py\", line 92, in actualSolve\n",
      "    raise PulpSolverError(\"PuLP: Error while trying to execute \"+self.path)\n",
      "pulp.apis.core.PulpSolverError: PuLP: Error while trying to execute E:\\Anaconda3\\lib\\site-packages\\pulp\\apis\\../solverdir/choco/choco-parsers-with-dependencies.jar\n",
      "\n",
      "======================================================================\n",
      "ERROR: test_export_solver_dict_LP (pulp.tests.test_pulp.PuLPTest)\n",
      "----------------------------------------------------------------------\n",
      "Traceback (most recent call last):\n",
      "  File \"E:\\Anaconda3\\lib\\site-packages\\pulp\\tests\\test_pulp.py\", line 755, in test_export_solver_dict_LP\n",
      "    pulpTestCheck(prob, solver1, [const.LpStatusOptimal], {x: 4, y: -1, z: 6, w: 0})\n",
      "  File \"E:\\Anaconda3\\lib\\site-packages\\pulp\\tests\\test_pulp.py\", line 870, in pulpTestCheck\n",
      "    status = prob.solve(solver, **kwargs)\n",
      "  File \"E:\\Anaconda3\\lib\\site-packages\\pulp\\pulp.py\", line 1899, in solve\n",
      "    status = solver.actualSolve(self, **kwargs)\n",
      "  File \"E:\\Anaconda3\\lib\\site-packages\\pulp\\apis\\choco_api.py\", line 92, in actualSolve\n",
      "    raise PulpSolverError(\"PuLP: Error while trying to execute \"+self.path)\n",
      "pulp.apis.core.PulpSolverError: PuLP: Error while trying to execute E:\\Anaconda3\\lib\\site-packages\\pulp\\apis\\../solverdir/choco/choco-parsers-with-dependencies.jar\n",
      "\n",
      "======================================================================\n",
      "ERROR: test_export_solver_json (pulp.tests.test_pulp.PuLPTest)\n",
      "----------------------------------------------------------------------\n",
      "Traceback (most recent call last):\n",
      "  File \"E:\\Anaconda3\\lib\\site-packages\\pulp\\tests\\test_pulp.py\", line 786, in test_export_solver_json\n",
      "    pulpTestCheck(prob, solver1, [const.LpStatusOptimal], {x: 4, y: -1, z: 6, w: 0})\n",
      "  File \"E:\\Anaconda3\\lib\\site-packages\\pulp\\tests\\test_pulp.py\", line 870, in pulpTestCheck\n",
      "    status = prob.solve(solver, **kwargs)\n",
      "  File \"E:\\Anaconda3\\lib\\site-packages\\pulp\\pulp.py\", line 1899, in solve\n",
      "    status = solver.actualSolve(self, **kwargs)\n",
      "  File \"E:\\Anaconda3\\lib\\site-packages\\pulp\\apis\\choco_api.py\", line 92, in actualSolve\n",
      "    raise PulpSolverError(\"PuLP: Error while trying to execute \"+self.path)\n",
      "pulp.apis.core.PulpSolverError: PuLP: Error while trying to execute E:\\Anaconda3\\lib\\site-packages\\pulp\\apis\\../solverdir/choco/choco-parsers-with-dependencies.jar\n",
      "\n",
      "======================================================================\n",
      "ERROR: test_pulp_010 (pulp.tests.test_pulp.PuLPTest)\n",
      "----------------------------------------------------------------------\n",
      "Traceback (most recent call last):\n",
      "  File \"E:\\Anaconda3\\lib\\site-packages\\pulp\\tests\\test_pulp.py\", line 107, in test_pulp_010\n",
      "    pulpTestCheck(prob, self.solver, [const.LpStatusOptimal], {x: 4, y: -1, z: 6, w: 0})\n",
      "  File \"E:\\Anaconda3\\lib\\site-packages\\pulp\\tests\\test_pulp.py\", line 870, in pulpTestCheck\n",
      "    status = prob.solve(solver, **kwargs)\n",
      "  File \"E:\\Anaconda3\\lib\\site-packages\\pulp\\pulp.py\", line 1899, in solve\n",
      "    status = solver.actualSolve(self, **kwargs)\n",
      "  File \"E:\\Anaconda3\\lib\\site-packages\\pulp\\apis\\choco_api.py\", line 92, in actualSolve\n",
      "    raise PulpSolverError(\"PuLP: Error while trying to execute \"+self.path)\n",
      "pulp.apis.core.PulpSolverError: PuLP: Error while trying to execute E:\\Anaconda3\\lib\\site-packages\\pulp\\apis\\../solverdir/choco/choco-parsers-with-dependencies.jar\n",
      "\n",
      "======================================================================\n",
      "ERROR: test_pulp_011 (pulp.tests.test_pulp.PuLPTest)\n",
      "----------------------------------------------------------------------\n",
      "Traceback (most recent call last):\n",
      "  File \"E:\\Anaconda3\\lib\\site-packages\\pulp\\tests\\test_pulp.py\", line 122, in test_pulp_011\n",
      "    pulpTestCheck(prob, self.solver, [const.LpStatusOptimal], {x: 4, y: 1, z: 8, w: 0})\n",
      "  File \"E:\\Anaconda3\\lib\\site-packages\\pulp\\tests\\test_pulp.py\", line 870, in pulpTestCheck\n",
      "    status = prob.solve(solver, **kwargs)\n",
      "  File \"E:\\Anaconda3\\lib\\site-packages\\pulp\\pulp.py\", line 1899, in solve\n",
      "    status = solver.actualSolve(self, **kwargs)\n",
      "  File \"E:\\Anaconda3\\lib\\site-packages\\pulp\\apis\\choco_api.py\", line 92, in actualSolve\n",
      "    raise PulpSolverError(\"PuLP: Error while trying to execute \"+self.path)\n",
      "pulp.apis.core.PulpSolverError: PuLP: Error while trying to execute E:\\Anaconda3\\lib\\site-packages\\pulp\\apis\\../solverdir/choco/choco-parsers-with-dependencies.jar\n",
      "\n",
      "======================================================================\n",
      "ERROR: test_pulp_013 (pulp.tests.test_pulp.PuLPTest)\n",
      "----------------------------------------------------------------------\n",
      "Traceback (most recent call last):\n",
      "  File \"E:\\Anaconda3\\lib\\site-packages\\pulp\\tests\\test_pulp.py\", line 178, in test_pulp_013\n",
      "    pulpTestCheck(prob, self.solver, [const.LpStatusOptimal], {x: 4, y: -1, z: 6, w: 0})\n",
      "  File \"E:\\Anaconda3\\lib\\site-packages\\pulp\\tests\\test_pulp.py\", line 870, in pulpTestCheck\n",
      "    status = prob.solve(solver, **kwargs)\n",
      "  File \"E:\\Anaconda3\\lib\\site-packages\\pulp\\pulp.py\", line 1899, in solve\n",
      "    status = solver.actualSolve(self, **kwargs)\n",
      "  File \"E:\\Anaconda3\\lib\\site-packages\\pulp\\apis\\choco_api.py\", line 92, in actualSolve\n",
      "    raise PulpSolverError(\"PuLP: Error while trying to execute \"+self.path)\n",
      "pulp.apis.core.PulpSolverError: PuLP: Error while trying to execute E:\\Anaconda3\\lib\\site-packages\\pulp\\apis\\../solverdir/choco/choco-parsers-with-dependencies.jar\n",
      "\n",
      "======================================================================\n",
      "ERROR: test_pulp_015 (pulp.tests.test_pulp.PuLPTest)\n",
      "----------------------------------------------------------------------\n",
      "Traceback (most recent call last):\n",
      "  File \"E:\\Anaconda3\\lib\\site-packages\\pulp\\tests\\test_pulp.py\", line 219, in test_pulp_015\n",
      "    pulpTestCheck(prob, self.solver, [const.LpStatusOptimal], {x: 4, y: -1, z: 6, w: 0})\n",
      "  File \"E:\\Anaconda3\\lib\\site-packages\\pulp\\tests\\test_pulp.py\", line 870, in pulpTestCheck\n",
      "    status = prob.solve(solver, **kwargs)\n",
      "  File \"E:\\Anaconda3\\lib\\site-packages\\pulp\\pulp.py\", line 1899, in solve\n",
      "    status = solver.actualSolve(self, **kwargs)\n",
      "  File \"E:\\Anaconda3\\lib\\site-packages\\pulp\\apis\\choco_api.py\", line 92, in actualSolve\n",
      "    raise PulpSolverError(\"PuLP: Error while trying to execute \"+self.path)\n",
      "pulp.apis.core.PulpSolverError: PuLP: Error while trying to execute E:\\Anaconda3\\lib\\site-packages\\pulp\\apis\\../solverdir/choco/choco-parsers-with-dependencies.jar\n",
      "\n",
      "======================================================================\n",
      "ERROR: test_pulp_016 (pulp.tests.test_pulp.PuLPTest)\n",
      "----------------------------------------------------------------------\n",
      "Traceback (most recent call last):\n",
      "  File \"E:\\Anaconda3\\lib\\site-packages\\pulp\\tests\\test_pulp.py\", line 234, in test_pulp_016\n",
      "    pulpTestCheck(prob, self.solver, [const.LpStatusOptimal])\n",
      "  File \"E:\\Anaconda3\\lib\\site-packages\\pulp\\tests\\test_pulp.py\", line 870, in pulpTestCheck\n",
      "    status = prob.solve(solver, **kwargs)\n",
      "  File \"E:\\Anaconda3\\lib\\site-packages\\pulp\\pulp.py\", line 1899, in solve\n",
      "    status = solver.actualSolve(self, **kwargs)\n",
      "  File \"E:\\Anaconda3\\lib\\site-packages\\pulp\\apis\\choco_api.py\", line 92, in actualSolve\n",
      "    raise PulpSolverError(\"PuLP: Error while trying to execute \"+self.path)\n",
      "pulp.apis.core.PulpSolverError: PuLP: Error while trying to execute E:\\Anaconda3\\lib\\site-packages\\pulp\\apis\\../solverdir/choco/choco-parsers-with-dependencies.jar\n",
      "\n",
      "======================================================================\n",
      "ERROR: test_pulp_017 (pulp.tests.test_pulp.PuLPTest)\n",
      "----------------------------------------------------------------------\n",
      "Traceback (most recent call last):\n",
      "  File \"E:\\Anaconda3\\lib\\site-packages\\pulp\\tests\\test_pulp.py\", line 250, in test_pulp_017\n",
      "    pulpTestCheck(prob, self.solver, [const.LpStatusOptimal])\n",
      "  File \"E:\\Anaconda3\\lib\\site-packages\\pulp\\tests\\test_pulp.py\", line 870, in pulpTestCheck\n",
      "    status = prob.solve(solver, **kwargs)\n",
      "  File \"E:\\Anaconda3\\lib\\site-packages\\pulp\\pulp.py\", line 1899, in solve\n",
      "    status = solver.actualSolve(self, **kwargs)\n",
      "  File \"E:\\Anaconda3\\lib\\site-packages\\pulp\\apis\\choco_api.py\", line 92, in actualSolve\n",
      "    raise PulpSolverError(\"PuLP: Error while trying to execute \"+self.path)\n",
      "pulp.apis.core.PulpSolverError: PuLP: Error while trying to execute E:\\Anaconda3\\lib\\site-packages\\pulp\\apis\\../solverdir/choco/choco-parsers-with-dependencies.jar\n",
      "\n",
      "======================================================================\n",
      "ERROR: test_pulp_019 (pulp.tests.test_pulp.PuLPTest)\n",
      "----------------------------------------------------------------------\n",
      "Traceback (most recent call last):\n",
      "  File \"E:\\Anaconda3\\lib\\site-packages\\pulp\\tests\\test_pulp.py\", line 282, in test_pulp_019\n",
      "    pulpTestCheck(prob, self.solver, [const.LpStatusOptimal], {x: 4, y: -1, z: 6, w: 0})\n",
      "  File \"E:\\Anaconda3\\lib\\site-packages\\pulp\\tests\\test_pulp.py\", line 870, in pulpTestCheck\n",
      "    status = prob.solve(solver, **kwargs)\n",
      "  File \"E:\\Anaconda3\\lib\\site-packages\\pulp\\pulp.py\", line 1899, in solve\n",
      "    status = solver.actualSolve(self, **kwargs)\n",
      "  File \"E:\\Anaconda3\\lib\\site-packages\\pulp\\apis\\choco_api.py\", line 92, in actualSolve\n",
      "    raise PulpSolverError(\"PuLP: Error while trying to execute \"+self.path)\n",
      "pulp.apis.core.PulpSolverError: PuLP: Error while trying to execute E:\\Anaconda3\\lib\\site-packages\\pulp\\apis\\../solverdir/choco/choco-parsers-with-dependencies.jar\n",
      "\n",
      "======================================================================\n",
      "ERROR: test_pulp_020 (pulp.tests.test_pulp.PuLPTest)\n",
      "----------------------------------------------------------------------\n",
      "Traceback (most recent call last):\n",
      "  File \"E:\\Anaconda3\\lib\\site-packages\\pulp\\tests\\test_pulp.py\", line 295, in test_pulp_020\n",
      "    pulpTestCheck(prob, self.solver, [const.LpStatusOptimal], {x: 3, y: -0.5, z: 7})\n",
      "  File \"E:\\Anaconda3\\lib\\site-packages\\pulp\\tests\\test_pulp.py\", line 870, in pulpTestCheck\n",
      "    status = prob.solve(solver, **kwargs)\n",
      "  File \"E:\\Anaconda3\\lib\\site-packages\\pulp\\pulp.py\", line 1899, in solve\n",
      "    status = solver.actualSolve(self, **kwargs)\n",
      "  File \"E:\\Anaconda3\\lib\\site-packages\\pulp\\apis\\choco_api.py\", line 92, in actualSolve\n",
      "    raise PulpSolverError(\"PuLP: Error while trying to execute \"+self.path)\n",
      "pulp.apis.core.PulpSolverError: PuLP: Error while trying to execute E:\\Anaconda3\\lib\\site-packages\\pulp\\apis\\../solverdir/choco/choco-parsers-with-dependencies.jar\n",
      "\n",
      "======================================================================\n",
      "ERROR: test_pulp_021 (pulp.tests.test_pulp.PuLPTest)\n",
      "----------------------------------------------------------------------\n",
      "Traceback (most recent call last):\n",
      "  File \"E:\\Anaconda3\\lib\\site-packages\\pulp\\tests\\test_pulp.py\", line 308, in test_pulp_021\n",
      "    pulpTestCheck(prob, self.solver, [const.LpStatusOptimal], {x: 3, y: -0.5, z: 7},\n",
      "  File \"E:\\Anaconda3\\lib\\site-packages\\pulp\\tests\\test_pulp.py\", line 870, in pulpTestCheck\n",
      "    status = prob.solve(solver, **kwargs)\n",
      "  File \"E:\\Anaconda3\\lib\\site-packages\\pulp\\pulp.py\", line 1899, in solve\n",
      "    status = solver.actualSolve(self, **kwargs)\n",
      "  File \"E:\\Anaconda3\\lib\\site-packages\\pulp\\apis\\choco_api.py\", line 92, in actualSolve\n",
      "    raise PulpSolverError(\"PuLP: Error while trying to execute \"+self.path)\n",
      "pulp.apis.core.PulpSolverError: PuLP: Error while trying to execute E:\\Anaconda3\\lib\\site-packages\\pulp\\apis\\../solverdir/choco/choco-parsers-with-dependencies.jar\n",
      "\n",
      "======================================================================\n",
      "ERROR: test_pulp_022 (pulp.tests.test_pulp.PuLPTest)\n",
      "----------------------------------------------------------------------\n",
      "Traceback (most recent call last):\n",
      "  File \"E:\\Anaconda3\\lib\\site-packages\\pulp\\tests\\test_pulp.py\", line 328, in test_pulp_022\n",
      "    pulpTestCheck(prob, self.solver, [const.LpStatusOptimal], {x: 3, y: -0.5, z: 7})\n",
      "  File \"E:\\Anaconda3\\lib\\site-packages\\pulp\\tests\\test_pulp.py\", line 870, in pulpTestCheck\n",
      "    status = prob.solve(solver, **kwargs)\n",
      "  File \"E:\\Anaconda3\\lib\\site-packages\\pulp\\pulp.py\", line 1899, in solve\n",
      "    status = solver.actualSolve(self, **kwargs)\n",
      "  File \"E:\\Anaconda3\\lib\\site-packages\\pulp\\apis\\choco_api.py\", line 92, in actualSolve\n",
      "    raise PulpSolverError(\"PuLP: Error while trying to execute \"+self.path)\n",
      "pulp.apis.core.PulpSolverError: PuLP: Error while trying to execute E:\\Anaconda3\\lib\\site-packages\\pulp\\apis\\../solverdir/choco/choco-parsers-with-dependencies.jar\n",
      "\n",
      "======================================================================\n",
      "ERROR: test_pulp_023 (pulp.tests.test_pulp.PuLPTest)\n",
      "----------------------------------------------------------------------\n",
      "Traceback (most recent call last):\n",
      "  File \"E:\\Anaconda3\\lib\\site-packages\\pulp\\tests\\test_pulp.py\", line 346, in test_pulp_023\n",
      "    pulpTestCheck(prob, self.solver, [const.LpStatusOptimal], solution)\n",
      "  File \"E:\\Anaconda3\\lib\\site-packages\\pulp\\tests\\test_pulp.py\", line 870, in pulpTestCheck\n",
      "    status = prob.solve(solver, **kwargs)\n",
      "  File \"E:\\Anaconda3\\lib\\site-packages\\pulp\\pulp.py\", line 1899, in solve\n",
      "    status = solver.actualSolve(self, **kwargs)\n",
      "  File \"E:\\Anaconda3\\lib\\site-packages\\pulp\\apis\\choco_api.py\", line 92, in actualSolve\n",
      "    raise PulpSolverError(\"PuLP: Error while trying to execute \"+self.path)\n",
      "pulp.apis.core.PulpSolverError: PuLP: Error while trying to execute E:\\Anaconda3\\lib\\site-packages\\pulp\\apis\\../solverdir/choco/choco-parsers-with-dependencies.jar\n",
      "\n",
      "======================================================================\n",
      "ERROR: test_pulp_030 (pulp.tests.test_pulp.PuLPTest)\n",
      "----------------------------------------------------------------------\n",
      "Traceback (most recent call last):\n",
      "  File \"E:\\Anaconda3\\lib\\site-packages\\pulp\\tests\\test_pulp.py\", line 362, in test_pulp_030\n",
      "    pulpTestCheck(prob, self.solver, [const.LpStatusOptimal], {x: 3.0, y: -0.5, z: 7})\n",
      "  File \"E:\\Anaconda3\\lib\\site-packages\\pulp\\tests\\test_pulp.py\", line 870, in pulpTestCheck\n",
      "    status = prob.solve(solver, **kwargs)\n",
      "  File \"E:\\Anaconda3\\lib\\site-packages\\pulp\\pulp.py\", line 1899, in solve\n",
      "    status = solver.actualSolve(self, **kwargs)\n",
      "  File \"E:\\Anaconda3\\lib\\site-packages\\pulp\\apis\\choco_api.py\", line 92, in actualSolve\n",
      "    raise PulpSolverError(\"PuLP: Error while trying to execute \"+self.path)\n",
      "pulp.apis.core.PulpSolverError: PuLP: Error while trying to execute E:\\Anaconda3\\lib\\site-packages\\pulp\\apis\\../solverdir/choco/choco-parsers-with-dependencies.jar\n",
      "\n",
      "======================================================================\n",
      "ERROR: test_pulp_040 (pulp.tests.test_pulp.PuLPTest)\n",
      "----------------------------------------------------------------------\n",
      "Traceback (most recent call last):\n",
      "  File \"E:\\Anaconda3\\lib\\site-packages\\pulp\\tests\\test_pulp.py\", line 376, in test_pulp_040\n",
      "    pulpTestCheck(prob, self.solver, [const.LpStatusOptimal])\n",
      "  File \"E:\\Anaconda3\\lib\\site-packages\\pulp\\tests\\test_pulp.py\", line 870, in pulpTestCheck\n",
      "    status = prob.solve(solver, **kwargs)\n",
      "  File \"E:\\Anaconda3\\lib\\site-packages\\pulp\\pulp.py\", line 1899, in solve\n",
      "    status = solver.actualSolve(self, **kwargs)\n",
      "  File \"E:\\Anaconda3\\lib\\site-packages\\pulp\\apis\\choco_api.py\", line 92, in actualSolve\n",
      "    raise PulpSolverError(\"PuLP: Error while trying to execute \"+self.path)\n",
      "pulp.apis.core.PulpSolverError: PuLP: Error while trying to execute E:\\Anaconda3\\lib\\site-packages\\pulp\\apis\\../solverdir/choco/choco-parsers-with-dependencies.jar\n",
      "\n",
      "======================================================================\n",
      "ERROR: test_pulp_050 (pulp.tests.test_pulp.PuLPTest)\n",
      "----------------------------------------------------------------------\n",
      "Traceback (most recent call last):\n",
      "  File \"E:\\Anaconda3\\lib\\site-packages\\pulp\\tests\\test_pulp.py\", line 395, in test_pulp_050\n",
      "    pulpTestCheck(prob, self.solver, [const.LpStatusInfeasible])\n",
      "  File \"E:\\Anaconda3\\lib\\site-packages\\pulp\\tests\\test_pulp.py\", line 870, in pulpTestCheck\n",
      "    status = prob.solve(solver, **kwargs)\n",
      "  File \"E:\\Anaconda3\\lib\\site-packages\\pulp\\pulp.py\", line 1899, in solve\n",
      "    status = solver.actualSolve(self, **kwargs)\n",
      "  File \"E:\\Anaconda3\\lib\\site-packages\\pulp\\apis\\choco_api.py\", line 92, in actualSolve\n",
      "    raise PulpSolverError(\"PuLP: Error while trying to execute \"+self.path)\n",
      "pulp.apis.core.PulpSolverError: PuLP: Error while trying to execute E:\\Anaconda3\\lib\\site-packages\\pulp\\apis\\../solverdir/choco/choco-parsers-with-dependencies.jar\n",
      "\n",
      "======================================================================\n",
      "ERROR: test_pulp_060 (pulp.tests.test_pulp.PuLPTest)\n",
      "----------------------------------------------------------------------\n",
      "Traceback (most recent call last):\n",
      "  File \"E:\\Anaconda3\\lib\\site-packages\\pulp\\tests\\test_pulp.py\", line 418, in test_pulp_060\n",
      "    pulpTestCheck(prob, self.solver, [const.LpStatusInfeasible])\n",
      "  File \"E:\\Anaconda3\\lib\\site-packages\\pulp\\tests\\test_pulp.py\", line 870, in pulpTestCheck\n",
      "    status = prob.solve(solver, **kwargs)\n",
      "  File \"E:\\Anaconda3\\lib\\site-packages\\pulp\\pulp.py\", line 1899, in solve\n",
      "    status = solver.actualSolve(self, **kwargs)\n",
      "  File \"E:\\Anaconda3\\lib\\site-packages\\pulp\\apis\\choco_api.py\", line 92, in actualSolve\n",
      "    raise PulpSolverError(\"PuLP: Error while trying to execute \"+self.path)\n",
      "pulp.apis.core.PulpSolverError: PuLP: Error while trying to execute E:\\Anaconda3\\lib\\site-packages\\pulp\\apis\\../solverdir/choco/choco-parsers-with-dependencies.jar\n",
      "\n",
      "======================================================================\n",
      "ERROR: test_pulp_061 (pulp.tests.test_pulp.PuLPTest)\n",
      "----------------------------------------------------------------------\n",
      "Traceback (most recent call last):\n",
      "  File \"E:\\Anaconda3\\lib\\site-packages\\pulp\\tests\\test_pulp.py\", line 438, in test_pulp_061\n",
      "    pulpTestCheck(prob, self.solver, [const.LpStatusInfeasible])\n",
      "  File \"E:\\Anaconda3\\lib\\site-packages\\pulp\\tests\\test_pulp.py\", line 870, in pulpTestCheck\n",
      "    status = prob.solve(solver, **kwargs)\n",
      "  File \"E:\\Anaconda3\\lib\\site-packages\\pulp\\pulp.py\", line 1899, in solve\n",
      "    status = solver.actualSolve(self, **kwargs)\n",
      "  File \"E:\\Anaconda3\\lib\\site-packages\\pulp\\apis\\choco_api.py\", line 92, in actualSolve\n",
      "    raise PulpSolverError(\"PuLP: Error while trying to execute \"+self.path)\n",
      "pulp.apis.core.PulpSolverError: PuLP: Error while trying to execute E:\\Anaconda3\\lib\\site-packages\\pulp\\apis\\../solverdir/choco/choco-parsers-with-dependencies.jar\n",
      "\n",
      "======================================================================\n",
      "ERROR: test_pulp_070 (pulp.tests.test_pulp.PuLPTest)\n",
      "----------------------------------------------------------------------\n",
      "Traceback (most recent call last):\n",
      "  File \"E:\\Anaconda3\\lib\\site-packages\\pulp\\tests\\test_pulp.py\", line 458, in test_pulp_070\n",
      "    pulpTestCheck(prob, self.solver, [const.LpStatusOptimal], {x: 4, y: -1, z: 6})\n",
      "  File \"E:\\Anaconda3\\lib\\site-packages\\pulp\\tests\\test_pulp.py\", line 870, in pulpTestCheck\n",
      "    status = prob.solve(solver, **kwargs)\n",
      "  File \"E:\\Anaconda3\\lib\\site-packages\\pulp\\pulp.py\", line 1899, in solve\n",
      "    status = solver.actualSolve(self, **kwargs)\n",
      "  File \"E:\\Anaconda3\\lib\\site-packages\\pulp\\apis\\choco_api.py\", line 92, in actualSolve\n",
      "    raise PulpSolverError(\"PuLP: Error while trying to execute \"+self.path)\n",
      "pulp.apis.core.PulpSolverError: PuLP: Error while trying to execute E:\\Anaconda3\\lib\\site-packages\\pulp\\apis\\../solverdir/choco/choco-parsers-with-dependencies.jar\n",
      "\n",
      "======================================================================\n",
      "ERROR: test_pulp_090 (pulp.tests.test_pulp.PuLPTest)\n",
      "----------------------------------------------------------------------\n",
      "Traceback (most recent call last):\n",
      "  File \"E:\\Anaconda3\\lib\\site-packages\\pulp\\tests\\test_pulp.py\", line 525, in test_pulp_090\n",
      "    prob.resolve()\n",
      "  File \"E:\\Anaconda3\\lib\\site-packages\\pulp\\pulp.py\", line 1954, in resolve\n",
      "    return self.solve(solver = solver, **kwargs)\n",
      "  File \"E:\\Anaconda3\\lib\\site-packages\\pulp\\pulp.py\", line 1899, in solve\n",
      "    status = solver.actualSolve(self, **kwargs)\n",
      "  File \"E:\\Anaconda3\\lib\\site-packages\\pulp\\apis\\choco_api.py\", line 92, in actualSolve\n",
      "    raise PulpSolverError(\"PuLP: Error while trying to execute \"+self.path)\n",
      "pulp.apis.core.PulpSolverError: PuLP: Error while trying to execute E:\\Anaconda3\\lib\\site-packages\\pulp\\apis\\../solverdir/choco/choco-parsers-with-dependencies.jar\n",
      "\n",
      "======================================================================\n",
      "ERROR: test_pulp_110 (pulp.tests.test_pulp.PuLPTest)\n",
      "Test the ability to use fractional constraints\n",
      "----------------------------------------------------------------------\n",
      "Traceback (most recent call last):\n",
      "  File \"E:\\Anaconda3\\lib\\site-packages\\pulp\\tests\\test_pulp.py\", line 571, in test_pulp_110\n",
      "    pulpTestCheck(prob, self.solver, [const.LpStatusOptimal],\n",
      "  File \"E:\\Anaconda3\\lib\\site-packages\\pulp\\tests\\test_pulp.py\", line 870, in pulpTestCheck\n",
      "    status = prob.solve(solver, **kwargs)\n",
      "  File \"E:\\Anaconda3\\lib\\site-packages\\pulp\\pulp.py\", line 1899, in solve\n",
      "    status = solver.actualSolve(self, **kwargs)\n",
      "  File \"E:\\Anaconda3\\lib\\site-packages\\pulp\\apis\\choco_api.py\", line 92, in actualSolve\n",
      "    raise PulpSolverError(\"PuLP: Error while trying to execute \"+self.path)\n",
      "pulp.apis.core.PulpSolverError: PuLP: Error while trying to execute E:\\Anaconda3\\lib\\site-packages\\pulp\\apis\\../solverdir/choco/choco-parsers-with-dependencies.jar\n",
      "\n",
      "======================================================================\n",
      "ERROR: test_pulp_120 (pulp.tests.test_pulp.PuLPTest)\n",
      "Test the ability to use Elastic constraints\n",
      "----------------------------------------------------------------------\n",
      "Traceback (most recent call last):\n",
      "  File \"E:\\Anaconda3\\lib\\site-packages\\pulp\\tests\\test_pulp.py\", line 589, in test_pulp_120\n",
      "    pulpTestCheck(prob, self.solver, [const.LpStatusOptimal],\n",
      "  File \"E:\\Anaconda3\\lib\\site-packages\\pulp\\tests\\test_pulp.py\", line 870, in pulpTestCheck\n",
      "    status = prob.solve(solver, **kwargs)\n",
      "  File \"E:\\Anaconda3\\lib\\site-packages\\pulp\\pulp.py\", line 1899, in solve\n",
      "    status = solver.actualSolve(self, **kwargs)\n",
      "  File \"E:\\Anaconda3\\lib\\site-packages\\pulp\\apis\\choco_api.py\", line 92, in actualSolve\n",
      "    raise PulpSolverError(\"PuLP: Error while trying to execute \"+self.path)\n",
      "pulp.apis.core.PulpSolverError: PuLP: Error while trying to execute E:\\Anaconda3\\lib\\site-packages\\pulp\\apis\\../solverdir/choco/choco-parsers-with-dependencies.jar\n",
      "\n",
      "======================================================================\n",
      "ERROR: test_pulp_121 (pulp.tests.test_pulp.PuLPTest)\n",
      "Test the ability to use Elastic constraints\n",
      "----------------------------------------------------------------------\n",
      "Traceback (most recent call last):\n",
      "  File \"E:\\Anaconda3\\lib\\site-packages\\pulp\\tests\\test_pulp.py\", line 607, in test_pulp_121\n",
      "    pulpTestCheck(prob, self.solver, [const.LpStatusOptimal],\n",
      "  File \"E:\\Anaconda3\\lib\\site-packages\\pulp\\tests\\test_pulp.py\", line 870, in pulpTestCheck\n",
      "    status = prob.solve(solver, **kwargs)\n",
      "  File \"E:\\Anaconda3\\lib\\site-packages\\pulp\\pulp.py\", line 1899, in solve\n",
      "    status = solver.actualSolve(self, **kwargs)\n",
      "  File \"E:\\Anaconda3\\lib\\site-packages\\pulp\\apis\\choco_api.py\", line 92, in actualSolve\n",
      "    raise PulpSolverError(\"PuLP: Error while trying to execute \"+self.path)\n",
      "pulp.apis.core.PulpSolverError: PuLP: Error while trying to execute E:\\Anaconda3\\lib\\site-packages\\pulp\\apis\\../solverdir/choco/choco-parsers-with-dependencies.jar\n",
      "\n",
      "======================================================================\n",
      "ERROR: test_pulp_122 (pulp.tests.test_pulp.PuLPTest)\n",
      "Test the ability to use Elastic constraints (penalty unchanged)\n",
      "----------------------------------------------------------------------\n",
      "Traceback (most recent call last):\n",
      "  File \"E:\\Anaconda3\\lib\\site-packages\\pulp\\tests\\test_pulp.py\", line 625, in test_pulp_122\n",
      "    pulpTestCheck(prob, self.solver, [const.LpStatusOptimal],\n",
      "  File \"E:\\Anaconda3\\lib\\site-packages\\pulp\\tests\\test_pulp.py\", line 870, in pulpTestCheck\n",
      "    status = prob.solve(solver, **kwargs)\n",
      "  File \"E:\\Anaconda3\\lib\\site-packages\\pulp\\pulp.py\", line 1899, in solve\n",
      "    status = solver.actualSolve(self, **kwargs)\n",
      "  File \"E:\\Anaconda3\\lib\\site-packages\\pulp\\apis\\choco_api.py\", line 92, in actualSolve\n",
      "    raise PulpSolverError(\"PuLP: Error while trying to execute \"+self.path)\n",
      "pulp.apis.core.PulpSolverError: PuLP: Error while trying to execute E:\\Anaconda3\\lib\\site-packages\\pulp\\apis\\../solverdir/choco/choco-parsers-with-dependencies.jar\n",
      "\n",
      "----------------------------------------------------------------------\n",
      "Ran 172 tests in 3.344s\n",
      "\n",
      "FAILED (errors=28)\n"
     ]
    },
    {
     "ename": "PulpError",
     "evalue": "Tests Failed",
     "output_type": "error",
     "traceback": [
      "\u001b[1;31m---------------------------------------------------------------------------\u001b[0m",
      "\u001b[1;31mPulpError\u001b[0m                                 Traceback (most recent call last)",
      "\u001b[1;32m<ipython-input-2-3641ef1ec295>\u001b[0m in \u001b[0;36m<module>\u001b[1;34m\u001b[0m\n\u001b[1;32m----> 1\u001b[1;33m \u001b[0mpulp\u001b[0m\u001b[1;33m.\u001b[0m\u001b[0mpulpTestAll\u001b[0m\u001b[1;33m(\u001b[0m\u001b[1;33m)\u001b[0m\u001b[1;33m\u001b[0m\u001b[1;33m\u001b[0m\u001b[0m\n\u001b[0m",
      "\u001b[1;32mE:\\Anaconda3\\lib\\site-packages\\pulp\\tests\\run_tests.py\u001b[0m in \u001b[0;36mpulpTestAll\u001b[1;34m(test_docs)\u001b[0m\n\u001b[0;32m      9\u001b[0m     \u001b[0mret\u001b[0m \u001b[1;33m=\u001b[0m \u001b[0mrunner\u001b[0m\u001b[1;33m.\u001b[0m\u001b[0mrun\u001b[0m\u001b[1;33m(\u001b[0m\u001b[0msuite_all\u001b[0m\u001b[1;33m)\u001b[0m\u001b[1;33m\u001b[0m\u001b[1;33m\u001b[0m\u001b[0m\n\u001b[0;32m     10\u001b[0m     \u001b[1;32mif\u001b[0m \u001b[1;32mnot\u001b[0m \u001b[0mret\u001b[0m\u001b[1;33m.\u001b[0m\u001b[0mwasSuccessful\u001b[0m\u001b[1;33m(\u001b[0m\u001b[1;33m)\u001b[0m\u001b[1;33m:\u001b[0m\u001b[1;33m\u001b[0m\u001b[1;33m\u001b[0m\u001b[0m\n\u001b[1;32m---> 11\u001b[1;33m         \u001b[1;32mraise\u001b[0m \u001b[0mpulp\u001b[0m\u001b[1;33m.\u001b[0m\u001b[0mPulpError\u001b[0m\u001b[1;33m(\u001b[0m\u001b[1;34m\"Tests Failed\"\u001b[0m\u001b[1;33m)\u001b[0m\u001b[1;33m\u001b[0m\u001b[1;33m\u001b[0m\u001b[0m\n\u001b[0m\u001b[0;32m     12\u001b[0m \u001b[1;33m\u001b[0m\u001b[0m\n\u001b[0;32m     13\u001b[0m \u001b[1;32mdef\u001b[0m \u001b[0mget_test_suit\u001b[0m\u001b[1;33m(\u001b[0m\u001b[0mtest_docs\u001b[0m\u001b[1;33m=\u001b[0m\u001b[1;32mFalse\u001b[0m\u001b[1;33m)\u001b[0m\u001b[1;33m:\u001b[0m\u001b[1;33m\u001b[0m\u001b[1;33m\u001b[0m\u001b[0m\n",
      "\u001b[1;31mPulpError\u001b[0m: Tests Failed"
     ]
    }
   ],
   "source": [
    "pulp.pulpTestAll()"
   ]
  },
  {
   "cell_type": "markdown",
   "metadata": {
    "id": "JHP3Y3Yh-stH"
   },
   "source": [
    "# Zadania:\n",
    "\n",
    "1. przeczytaj materiały dotyczące pulp ze strony internetowej https://coin-or.github.io/pulp/main/index.html oraz przejdź przez blending problem (przepisz do swojego notebooka)\n",
    "\n",
    "2. w blending problem dodaj zmienną decyzyjną. Stwórz zmienną która pojawi się w końcowym składzie produktu (tj. wartość zmiennej będzie miała niezerową postać)\n",
    "\n",
    "3. Dodaj ograniczenie co do zawartości witaminy B \n",
    "\n",
    "Zawartość:\n",
    "\n",
    "| Nazwa      | zawartość ug/100g |\n",
    "|------------|-------------------|\n",
    "| chicken    | 0.3               |\n",
    "| beef       | 2.6               |\n",
    "| mutton     | 2.6               |\n",
    "| rice       | 0                 |\n",
    "| wheat bran | 0                 |\n",
    "| gel        | 0                 |\n",
    "| sardines   | 8.9               |\n",
    "\n",
    "Kot ma zjeść minimum 0.24 ug na kilogram masy więc około\n",
    "0.8 ug dziennie\n",
    "\n",
    "4. Na końcu ma pojawiać się zdanie podsumowujące wynik, w stylu:\n",
    "Końcowy produkt będzie kosztować {}, będzie miał w składzie {nazwa}: {} %, {nastepna nazwa}: {} %\n",
    "\n",
    "Takie zdanie można skleić z części generowanych automatycznie:\n",
    "\n"
   ]
  },
  {
   "cell_type": "code",
   "execution_count": 3,
   "metadata": {
    "colab": {
     "base_uri": "https://localhost:8080/",
     "height": 53
    },
    "id": "BhWf9b8IMJZ7",
    "outputId": "c4e437d7-32da-4e82-b320-cbbfe1a50941"
   },
   "outputs": [
    {
     "name": "stdout",
     "output_type": "stream",
     "text": [
      "['jabłko:5', 'banan:10']\n",
      "jabłko:5, banan:10\n"
     ]
    }
   ],
   "source": [
    "sklejone_produkt_cena = [\":\".join((produkt, str(cena))) for produkt,cena in zip([\"jabłko\",\"banan\"],[5,10])]\n",
    "print(sklejone_produkt_cena)\n",
    "sklejona_calosc = \", \".join(sklejone_produkt_cena)\n",
    "\n",
    "print(sklejona_calosc)"
   ]
  },
  {
   "cell_type": "code",
   "execution_count": 5,
   "metadata": {
    "id": "Se_t7o8bTLdW"
   },
   "outputs": [
    {
     "name": "stdout",
     "output_type": "stream",
     "text": [
      "Status: Optimal\n",
      "BeefPercent = 50.0\n",
      "ChickenPercent = 0.0\n",
      "MuttonPercent = 50.0\n",
      "Total Cost of Ingredients per can =  0.9\n"
     ]
    }
   ],
   "source": [
    "\"\"\"\n",
    "The Simplified Whiskas Model Python Formulation for the PuLP Modeller\n",
    "\n",
    "Authors: Antony Phillips, Dr Stuart Mitchell  2007\n",
    "\"\"\"\n",
    "\n",
    "# Import PuLP modeler functions\n",
    "from pulp import *\n",
    "\n",
    "# Create the 'prob' variable to contain the problem data\n",
    "prob = LpProblem(\"TheWhiskasProblem\",LpMinimize)\n",
    "\n",
    "# The 2 variables Beef and Chicken are created with a lower limit of zero\n",
    "x1=LpVariable(\"ChickenPercent\",0,None,LpInteger)\n",
    "x2=LpVariable(\"BeefPercent\",0)\n",
    "x3=LpVariable(\"MuttonPercent\",0,40,LpInteger) # Baranina\n",
    "\n",
    "# The objective function is added to 'prob' first\n",
    "prob += 0.013*x1 + 0.008*x2 + 0.010*x3, \"Total Cost of Ingredients per can\" # Dodano baraninę (x3)\n",
    "\n",
    "# The five constraints are entered\n",
    "prob += x1 + x2 + x3 == 100, \"PercentagesSum\"\n",
    "prob += 0.100*x1 + 0.200*x2 + 0.165*x3 >= 8.0, \"ProteinRequirement\"\n",
    "prob += 0.080*x1 + 0.100*x2 + 0.165*x3 >= 6.0, \"FatRequirement\"\n",
    "prob += 0.001*x1 + 0.005*x2 + 0.000*x3 <= 2.0, \"FibreRequirement\"\n",
    "prob += 0.002*x1 + 0.005*x2 + 0.003*x3 <= 0.4, \"SaltRequirement\" # Zawartość soli dla baraniny wymyślono\n",
    "\n",
    "# The problem data is written to an .lp file\n",
    "prob.writeLP(\"WhiskasModel.lp\")\n",
    "\n",
    "# The problem is solved using PuLP's choice of Solver\n",
    "prob.solve()\n",
    "\n",
    "# The status of the solution is printed to the screen\n",
    "print (\"Status:\", LpStatus[prob.status])\n",
    "      \n",
    "# Each of the variables is printed with it's resolved optimum value\n",
    "for v in prob.variables():\n",
    "    print (v.name, \"=\", v.varValue)\n",
    "    \n",
    "# The optimised objective function value is printed to the screen\n",
    "print (\"Total Cost of Ingredients per can = \", value(prob.objective))"
   ]
  },
  {
   "cell_type": "code",
   "execution_count": null,
   "metadata": {},
   "outputs": [],
   "source": []
  }
 ],
 "metadata": {
  "colab": {
   "collapsed_sections": [],
   "name": "instalacja pierwsze ćwiczenia z Pulp",
   "provenance": []
  },
  "kernelspec": {
   "display_name": "Python 3",
   "language": "python",
   "name": "python3"
  },
  "language_info": {
   "codemirror_mode": {
    "name": "ipython",
    "version": 3
   },
   "file_extension": ".py",
   "mimetype": "text/x-python",
   "name": "python",
   "nbconvert_exporter": "python",
   "pygments_lexer": "ipython3",
   "version": "3.8.3"
  }
 },
 "nbformat": 4,
 "nbformat_minor": 1
}
