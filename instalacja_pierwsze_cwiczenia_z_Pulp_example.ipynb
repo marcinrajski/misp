{
 "cells": [
  {
   "cell_type": "code",
   "execution_count": null,
   "metadata": {
    "colab": {
     "base_uri": "https://localhost:8080/",
     "height": 215
    },
    "id": "BjX-mj9e8D5a",
    "outputId": "a53b8a45-9e84-4a48-fa91-5597eeb80850"
   },
   "outputs": [
    {
     "name": "stdout",
     "output_type": "stream",
     "text": [
      "Requirement already satisfied: pulp in /usr/local/lib/python3.6/dist-packages (2.3)\n",
      "Requirement already satisfied: amply>=0.1.2 in /usr/local/lib/python3.6/dist-packages (from pulp) (0.1.4)\n",
      "Requirement already satisfied: pyparsing in /usr/local/lib/python3.6/dist-packages (from amply>=0.1.2->pulp) (2.4.7)\n",
      "Requirement already satisfied: docutils>=0.3 in /usr/local/lib/python3.6/dist-packages (from amply>=0.1.2->pulp) (0.16)\n",
      "Reading package lists... Done\n",
      "Building dependency tree       \n",
      "Reading state information... Done\n",
      "coinor-cbc is already the newest version (2.9.9+repack1-1).\n",
      "coinor-clp is already the newest version (1.16.11+repack1-1).\n",
      "glpk-utils is already the newest version (4.65-1).\n",
      "0 upgraded, 0 newly installed, 0 to remove and 21 not upgraded.\n"
     ]
    }
   ],
   "source": [
    "!pip install pulp\n",
    "\n",
    "!sudo apt-get install coinor-cbc glpk-utils coinor-clp\n"
   ]
  },
  {
   "cell_type": "code",
   "execution_count": 1,
   "metadata": {
    "colab": {
     "base_uri": "https://localhost:8080/",
     "height": 35
    },
    "id": "HMGiufp89W-9",
    "outputId": "9e6761ea-6310-4ebe-ec96-bffc23a0215c"
   },
   "outputs": [
    {
     "name": "stdout",
     "output_type": "stream",
     "text": [
      "2.3.1\n"
     ]
    }
   ],
   "source": [
    "### kod sprawdza czy instalacja się udała\n",
    "import pulp\n",
    "\n",
    "print(pulp.__version__)"
   ]
  },
  {
   "cell_type": "code",
   "execution_count": 2,
   "metadata": {
    "colab": {
     "base_uri": "https://localhost:8080/",
     "height": 1000
    },
    "id": "05p9Frax-V2f",
    "outputId": "15f6160b-c4cc-46ba-d7eb-aa23416c0ac5"
   },
   "outputs": [
    {
     "name": "stderr",
     "output_type": "stream",
     "text": [
      ".."
     ]
    },
    {
     "name": "stdout",
     "output_type": "stream",
     "text": [
      "Solver <class 'pulp.apis.coin_api.PULP_CBC_CMD'> unavailable\n",
      "Solver <class 'pulp.apis.cplex_api.CPLEX_DLL'> unavailable\n",
      "Solver <class 'pulp.apis.cplex_api.CPLEX_CMD'> unavailable\n",
      "Solver <class 'pulp.apis.cplex_api.CPLEX_PY'> unavailable\n",
      "Solver <class 'pulp.apis.coin_api.COIN_CMD'> unavailable\n",
      "Solver <class 'pulp.apis.coin_api.COINMP_DLL'> unavailable\n",
      "Solver <class 'pulp.apis.glpk_api.GLPK_CMD'> available\n",
      "Solver <class 'pulp.apis.xpress_api.XPRESS'> unavailable\n",
      "Solver <class 'pulp.apis.gurobi_api.GUROBI'> unavailable\n",
      "Solver <class 'pulp.apis.gurobi_api.GUROBI_CMD'> unavailable\n",
      "Solver <class 'pulp.apis.glpk_api.PYGLPK'> unavailable\n",
      "Solver <class 'pulp.apis.coin_api.YAPOSIB'> unavailable\n",
      "Solver <class 'pulp.apis.choco_api.PULP_CHOCO_CMD'> unavailable\n",
      "Solver <class 'pulp.apis.choco_api.CHOCO_CMD'> unavailable\n",
      "Solver <class 'pulp.apis.mipcl_api.MIPCL_CMD'> unavailable\n",
      "Solver <class 'pulp.apis.mosek_api.MOSEK'> unavailable\n",
      "Solver <class 'pulp.apis.scip_api.SCIP_CMD'> unavailable\n",
      "\t Testing invalid status\n",
      "\t Testing continuous LP solution - export dict\n",
      "\t Testing MIP solution\n"
     ]
    },
    {
     "name": "stderr",
     "output_type": "stream",
     "text": [
      ".........."
     ]
    },
    {
     "name": "stdout",
     "output_type": "stream",
     "text": [
      "\t Testing maximize continuous LP solution\n",
      "\t Testing continuous LP solution - export JSON\n",
      "\t Testing continuous LP solution - export solver dict\n",
      "\t Testing continuous LP solution - export solver JSON\n",
      "\t Testing makeDict general behavior\n",
      "\t Testing makeDict default value behavior\n",
      "\t Testing the availability of the function pulpTestAll\n",
      "\t Testing zero subtraction\n",
      "\t Testing inconsistent lp solution\n"
     ]
    },
    {
     "name": "stderr",
     "output_type": "stream",
     "text": [
      "......."
     ]
    },
    {
     "name": "stdout",
     "output_type": "stream",
     "text": [
      "\t Testing continuous LP solution\n",
      "\t Testing maximize continuous LP solution\n",
      "\t Testing unbounded continuous LP solution\n",
      "\t Testing Long Names\n",
      "\t Testing repeated Names\n",
      "\t Testing zero constraint\n",
      "\t Testing zero objective\n"
     ]
    },
    {
     "name": "stderr",
     "output_type": "stream",
     "text": [
      "......."
     ]
    },
    {
     "name": "stdout",
     "output_type": "stream",
     "text": [
      "\t Testing LpVariable (not LpAffineExpression) objective\n",
      "\t Testing LpAffineExpression divide\n",
      "\t Testing MIP solution\n",
      "\t Testing MIP solution with floats in objective\n",
      "\t Testing MIP solution\n",
      "\t Testing MIP solution\n"
     ]
    },
    {
     "name": "stderr",
     "output_type": "stream",
     "text": [
      "....."
     ]
    },
    {
     "name": "stdout",
     "output_type": "stream",
     "text": [
      "\t Testing MIP relaxation\n",
      "\t Testing feasibility problem (no objective)\n",
      "\t Testing an infeasible problem\n",
      "\t Testing an integer infeasible problem\n",
      "\t Testing another integer infeasible problem\n"
     ]
    },
    {
     "name": "stderr",
     "output_type": "stream",
     "text": [
      "........"
     ]
    },
    {
     "name": "stdout",
     "output_type": "stream",
     "text": [
      "\t Testing column based modelling\n",
      "\t Testing fractional constraints\n",
      "\t Testing elastic constraints (no change)\n",
      "\t Testing elastic constraints (freebound)\n"
     ]
    },
    {
     "name": "stderr",
     "output_type": "stream",
     "text": [
      "........"
     ]
    },
    {
     "name": "stdout",
     "output_type": "stream",
     "text": [
      "\t Testing elastic constraints (penalty unchanged)\n",
      "\t Testing elastic constraints (penalty unbounded)\n"
     ]
    },
    {
     "name": "stderr",
     "output_type": "stream",
     "text": [
      "..........................."
     ]
    },
    {
     "name": "stdout",
     "output_type": "stream",
     "text": [
      "{'a': 53.0, 'b': 45.3, 'c': 459.2}\n"
     ]
    },
    {
     "name": "stderr",
     "output_type": "stream",
     "text": [
      "............\n",
      "----------------------------------------------------------------------\n",
      "Ran 86 tests in 1.955s\n",
      "\n",
      "OK\n"
     ]
    }
   ],
   "source": [
    "pulp.pulpTestAll()"
   ]
  },
  {
   "cell_type": "markdown",
   "metadata": {
    "id": "JHP3Y3Yh-stH"
   },
   "source": [
    "# Zadania:\n",
    "\n",
    "1. przeczytaj materiały dotyczące pulp ze strony internetowej https://coin-or.github.io/pulp/main/index.html oraz przejdź przez blending problem (przepisz do swojego notebooka)\n",
    "\n",
    "2. w blending problem dodaj zmienną decyzyjną. Stwórz zmienną która pojawi się w końcowym składzie produktu (tj. wartość zmiennej będzie miała niezerową postać)\n",
    "\n",
    "3. Dodaj ograniczenie co do zawartości witaminy B \n",
    "\n",
    "Zawartość:\n",
    "\n",
    "| Nazwa      | zawartość ug/100g |\n",
    "|------------|-------------------|\n",
    "| chicken    | 0.3               |\n",
    "| beef       | 2.6               |\n",
    "| mutton     | 2.6               |\n",
    "| rice       | 0                 |\n",
    "| wheat bran | 0                 |\n",
    "| gel        | 0                 |\n",
    "| sardines   | 8.9               |\n",
    "\n",
    "Kot ma zjeść minimum 0.24 ug na kilogram masy więc około\n",
    "0.8 ug dziennie\n",
    "\n",
    "4. Na końcu ma pojawiać się zdanie podsumowujące wynik, w stylu:\n",
    "Końcowy produkt będzie kosztować {}, będzie miał w składzie {nazwa}: {} %, {nastepna nazwa}: {} %\n",
    "\n",
    "Takie zdanie można skleić z części generowanych automatycznie:\n",
    "\n"
   ]
  },
  {
   "cell_type": "code",
   "execution_count": 3,
   "metadata": {
    "colab": {
     "base_uri": "https://localhost:8080/",
     "height": 53
    },
    "id": "BhWf9b8IMJZ7",
    "outputId": "c4e437d7-32da-4e82-b320-cbbfe1a50941"
   },
   "outputs": [
    {
     "name": "stdout",
     "output_type": "stream",
     "text": [
      "['jabłko:5', 'banan:10']\n",
      "jabłko:5, banan:10\n"
     ]
    }
   ],
   "source": [
    "sklejone_produkt_cena = [\":\".join((produkt, str(cena))) for produkt,cena in zip([\"jabłko\",\"banan\"],[5,10])]\n",
    "print(sklejone_produkt_cena)\n",
    "sklejona_calosc = \", \".join(sklejone_produkt_cena)\n",
    "\n",
    "print(sklejona_calosc)\n",
    "\n",
    "\n",
    "\n"
   ]
  },
  {
   "cell_type": "code",
   "execution_count": 3,
   "metadata": {
    "id": "Se_t7o8bTLdW"
   },
   "outputs": [
    {
     "name": "stdout",
     "output_type": "stream",
     "text": [
      "Status: Optimal\n",
      "BeefPercent = 64.347826\n",
      "ChickenPercent = 32.173913\n",
      "SardinesPercent = 3.4782609\n",
      "Total Cost of Ingredients per can =  0.967826086\n",
      "Końcowy produkt będzie kosztować: 0.967826086  będzie miał w składzie: BeefPercent=64.347826, ChickenPercent=32.173913, SardinesPercent=3.4782609\n"
     ]
    }
   ],
   "source": [
    "\"\"\"\n",
    "The Simplified Whiskas Model Python Formulation for the PuLP Modeller\n",
    "\n",
    "Authors: Antony Phillips, Dr Stuart Mitchell  2007\n",
    "\"\"\"\n",
    "# Import PuLP modeler functions\n",
    "from pulp import *\n",
    "\n",
    "# Create the 'prob' variable to contain the problem data\n",
    "prob = LpProblem(\"The Whiskas Problem\",LpMinimize)\n",
    "\n",
    "# The 2 variables Beef and Chicken are created with a lower limit of zero\n",
    "x1=LpVariable(\"ChickenPercent\",0,None)\n",
    "x2=LpVariable(\"BeefPercent\",0)\n",
    "x3=LpVariable(\"SardinesPercent\",0)\n",
    "\n",
    "# The objective function is added to 'prob' first\n",
    "prob += 0.013*x1 + 0.008*x2 + 0.010*x3, \"Total Cost of Ingredients per can\"\n",
    "\n",
    "# The five constraints are entered\n",
    "prob += x1 + x2 + x3 == 100, \"PercentagesSum\"\n",
    "prob += 0.100*x1 + 0.200*x2 + 0.150*x3 >= 8.0, \"ProteinRequirement\"\n",
    "prob += 0.080*x1 + 0.010*x2 + 0.800*x3 >= 6.0, \"FatRequirement\"\n",
    "prob += 0.001*x1 + 0.005*x2 + 0.002*x3 <= 2.0, \"FibreRequirement\"\n",
    "prob += 0.002*x1 + 0.005*x2 + 0.004*x3 <= 0.4, \"SaltRequirement\"\n",
    "prob += 0.030*x1 + 0.260*x2 + 0.500*x3 >= 0.8, \"Vitamin B Requirent\"\n",
    "\n",
    "# The problem data is written to an .lp file\n",
    "prob.writeLP(\"WhiskasModel.lp\")\n",
    "\n",
    "# The problem is solved using PuLP's choice of Solver\n",
    "prob.solve()\n",
    "\n",
    "# The status of the solution is printed to the screen\n",
    "print(\"Status:\", LpStatus[prob.status])\n",
    "\n",
    "# Each of the variables is printed with it's resolved optimum value\n",
    "\n",
    "for v in prob.variables():\n",
    "    print(v.name, \"=\", v.varValue)\n",
    "  \n",
    "\n",
    "#The optimised objective function value is printed to the screen\n",
    "print(\"Total Cost of Ingredients per can = \", value(prob.objective))    \n",
    "\n",
    "\n",
    "sklejoneSkladnikZawarosc = [\"=\".join((v.name, str(v.varValue))) for v in prob.variables()]\n",
    "sklejona_calosc = \", \".join(sklejoneSkladnikZawarosc)\n",
    "\n",
    "    \n",
    "print(\"Końcowy produkt będzie kosztować:\", value(prob.objective), \" będzie miał w składzie:\",sklejona_calosc)\n"
   ]
  },
  {
   "cell_type": "code",
   "execution_count": 5,
   "metadata": {},
   "outputs": [
    {
     "name": "stdout",
     "output_type": "stream",
     "text": [
      "Status: Optimal\n",
      "Ingr_BEEF = 6.9316901\n",
      "Ingr_CHICKEN = 60.431346\n",
      "Ingr_GEL = 19.562831\n",
      "Ingr_MUTTON = 0.0\n",
      "Ingr_RICE = 0.0\n",
      "Ingr_SARDINES = 0.43238223\n",
      "Ingr_WHEAT = 12.64175\n",
      "Total Cost of Ingredients per can =  0.92512974649\n",
      "Końcowy produkt będzie kosztować: 0.92512974649  będzie miał w składzie: Ingr_BEEF=6.9316901, Ingr_CHICKEN=60.431346, Ingr_GEL=19.562831, Ingr_MUTTON=0.0, Ingr_RICE=0.0, Ingr_SARDINES=0.43238223, Ingr_WHEAT=12.64175\n"
     ]
    }
   ],
   "source": [
    "\"\"\"\n",
    "The Full Whiskas Model Python Formulation for the PuLP Modeller\n",
    "\n",
    "Authors: Antony Phillips, Dr Stuart Mitchell  2007\n",
    "\"\"\"\n",
    "\n",
    "# Import PuLP modeler functions\n",
    "from pulp import *\n",
    "\n",
    "# Creates a list of the Ingredients\n",
    "Ingredients = ['CHICKEN', 'BEEF', 'MUTTON', 'RICE', 'WHEAT', 'GEL','SARDINES']\n",
    "\n",
    "# A dictionary of the costs of each of the Ingredients is created\n",
    "costs = {'CHICKEN': 0.013, \n",
    "         'BEEF': 0.008, \n",
    "         'MUTTON': 0.010, \n",
    "         'RICE': 0.002, \n",
    "         'WHEAT': 0.005, \n",
    "         'GEL': 0.001,\n",
    "         'SARDINES': 0.003}\n",
    "\n",
    "# A dictionary of the protein percent in each of the Ingredients is created\n",
    "proteinPercent = {'CHICKEN': 0.100, \n",
    "                  'BEEF': 0.200, \n",
    "                  'MUTTON': 0.150, \n",
    "                  'RICE': 0.000, \n",
    "                  'WHEAT': 0.040, \n",
    "                  'GEL': 0.000,\n",
    "                  'SARDINES': 0.150}\n",
    "\n",
    "# A dictionary of the fat percent in each of the Ingredients is created\n",
    "fatPercent = {'CHICKEN': 0.080, \n",
    "              'BEEF': 0.100, \n",
    "              'MUTTON': 0.110, \n",
    "              'RICE': 0.010, \n",
    "              'WHEAT': 0.010, \n",
    "              'GEL': 0.000,\n",
    "              'SARDINES': 0.80}\n",
    "# A dictionary of the fibre percent in each of the Ingredients is created\n",
    "fibrePercent = {'CHICKEN': 0.001, \n",
    "                'BEEF': 0.005, \n",
    "                'MUTTON': 0.003, \n",
    "                'RICE': 0.100, \n",
    "                'WHEAT': 0.150, \n",
    "                'GEL': 0.000,\n",
    "                'SARDINES': 0.020}\n",
    "\n",
    "# A dictionary of the salt percent in each of the Ingredients is created\n",
    "saltPercent = {'CHICKEN': 0.002, \n",
    "               'BEEF': 0.005, \n",
    "               'MUTTON': 0.007, \n",
    "               'RICE': 0.002, \n",
    "               'WHEAT': 0.008, \n",
    "               'GEL': 0.000,\n",
    "            'SARDINES': 0.008}\n",
    "\n",
    "\n",
    "ViteaminBPercent = {'CHICKEN': 0.003, \n",
    "               'BEEF': 0.026, \n",
    "               'MUTTON': 0.026, \n",
    "               'RICE': 0.000, \n",
    "               'WHEAT': 0.000, \n",
    "               'GEL': 0.000,\n",
    "               'SARDINES': 0.089}\n",
    "\n",
    "\n",
    "\n",
    "\n",
    "# Create the 'prob' variable to contain the problem data\n",
    "prob = LpProblem(\"The Whiskas Problem\", LpMinimize)\n",
    "\n",
    "# A dictionary called 'ingredient_vars' is created to contain the referenced Variables\n",
    "ingredient_vars = LpVariable.dicts(\"Ingr\",Ingredients,0)\n",
    "\n",
    "# The objective function is added to 'prob' first\n",
    "prob += lpSum([costs[i]*ingredient_vars[i] for i in Ingredients]), \"Total Cost of Ingredients per can\"\n",
    "\n",
    "# The five constraints are added to 'prob'\n",
    "prob += lpSum([ingredient_vars[i] for i in Ingredients]) == 100, \"PercentagesSum\"\n",
    "prob += lpSum([proteinPercent[i] * ingredient_vars[i] for i in Ingredients]) >= 8.0, \"ProteinRequirement\"\n",
    "prob += lpSum([fatPercent[i] * ingredient_vars[i] for i in Ingredients]) >= 6.0, \"FatRequirement\"\n",
    "prob += lpSum([fibrePercent[i] * ingredient_vars[i] for i in Ingredients]) <= 2.0, \"FibreRequirement\"\n",
    "prob += lpSum([saltPercent[i] * ingredient_vars[i] for i in Ingredients]) <= 0.4, \"SaltRequirement\"\n",
    "prob += lpSum([ViteaminBPercent[i] * ingredient_vars[i] for i in Ingredients]) <= 0.4, \"VitaminBRequirement\"\n",
    "\n",
    "# The problem data is written to an .lp file\n",
    "prob.writeLP(\"WhiskasModel.lp\")\n",
    "\n",
    "# The problem is solved using PuLP's choice of Solver\n",
    "prob.solve()\n",
    "\n",
    "# The status of the solution is printed to the screen\n",
    "print(\"Status:\", LpStatus[prob.status])\n",
    "\n",
    "# Each of the variables is printed with it's resolved optimum value\n",
    "for v in prob.variables():\n",
    "    print(v.name, \"=\", v.varValue)\n",
    "\n",
    "# The optimised objective function value is printed to the screen\n",
    "print(\"Total Cost of Ingredients per can = \", value(prob.objective))   \n",
    "\n",
    "sklejoneSkladnikZawarosc = [\"=\".join((v.name, str(v.varValue))) for v in prob.variables()]\n",
    "sklejona_calosc = \", \".join(sklejoneSkladnikZawarosc)\n",
    "\n",
    "    \n",
    "print(\"Końcowy produkt będzie kosztować:\", value(prob.objective), \" będzie miał w składzie:\",sklejona_calosc)"
   ]
  },
  {
   "cell_type": "code",
   "execution_count": null,
   "metadata": {},
   "outputs": [],
   "source": []
  },
  {
   "cell_type": "code",
   "execution_count": null,
   "metadata": {},
   "outputs": [],
   "source": []
  }
 ],
 "metadata": {
  "colab": {
   "collapsed_sections": [],
   "name": "instalacja pierwsze ćwiczenia z Pulp",
   "provenance": []
  },
  "kernelspec": {
   "display_name": "Python 3",
   "language": "python",
   "name": "python3"
  },
  "language_info": {
   "codemirror_mode": {
    "name": "ipython",
    "version": 3
   },
   "file_extension": ".py",
   "mimetype": "text/x-python",
   "name": "python",
   "nbconvert_exporter": "python",
   "pygments_lexer": "ipython3",
   "version": "3.8.3"
  }
 },
 "nbformat": 4,
 "nbformat_minor": 1
}
