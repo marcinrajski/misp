{
 "cells": [
  {
   "cell_type": "code",
   "execution_count": 1,
   "metadata": {
    "colab": {
     "base_uri": "https://localhost:8080/",
     "height": 215
    },
    "id": "BjX-mj9e8D5a",
    "outputId": "a53b8a45-9e84-4a48-fa91-5597eeb80850"
   },
   "outputs": [
    {
     "name": "stdout",
     "output_type": "stream",
     "text": [
      "Requirement already satisfied: pulp in e:\\anaconda3\\lib\\site-packages (2.3.1)\n",
      "Requirement already satisfied: amply>=0.1.2 in e:\\anaconda3\\lib\\site-packages (from pulp) (0.1.4)\n",
      "Requirement already satisfied: docutils>=0.3 in e:\\anaconda3\\lib\\site-packages (from amply>=0.1.2->pulp) (0.16)\n",
      "Requirement already satisfied: pyparsing in e:\\anaconda3\\lib\\site-packages (from amply>=0.1.2->pulp) (2.4.7)\n"
     ]
    },
    {
     "name": "stderr",
     "output_type": "stream",
     "text": [
      "'sudo' is not recognized as an internal or external command,\n",
      "operable program or batch file.\n"
     ]
    }
   ],
   "source": [
    "!pip install pulp\n",
    "\n",
    "!sudo apt-get install coinor-cbc glpk-utils coinor-clp\n"
   ]
  },
  {
   "cell_type": "code",
   "execution_count": 3,
   "metadata": {
    "colab": {
     "base_uri": "https://localhost:8080/",
     "height": 35
    },
    "id": "HMGiufp89W-9",
    "outputId": "9e6761ea-6310-4ebe-ec96-bffc23a0215c"
   },
   "outputs": [
    {
     "name": "stdout",
     "output_type": "stream",
     "text": [
      "2.3.1\n"
     ]
    }
   ],
   "source": [
    "### kod sprawdza czy instalacja się udała\n",
    "import pulp\n",
    "\n",
    "print(pulp.__version__)"
   ]
  },
  {
   "cell_type": "code",
   "execution_count": 4,
   "metadata": {
    "colab": {
     "base_uri": "https://localhost:8080/",
     "height": 1000
    },
    "id": "05p9Frax-V2f",
    "outputId": "15f6160b-c4cc-46ba-d7eb-aa23416c0ac5"
   },
   "outputs": [
    {
     "name": "stderr",
     "output_type": "stream",
     "text": [
      ".."
     ]
    },
    {
     "name": "stdout",
     "output_type": "stream",
     "text": [
      "Solver <class 'pulp.apis.coin_api.PULP_CBC_CMD'> available\n",
      "Solver <class 'pulp.apis.cplex_api.CPLEX_DLL'> unavailable\n",
      "Solver <class 'pulp.apis.cplex_api.CPLEX_CMD'> unavailable\n",
      "Solver <class 'pulp.apis.cplex_api.CPLEX_PY'> unavailable\n",
      "Solver <class 'pulp.apis.coin_api.COIN_CMD'> unavailable\n",
      "Solver <class 'pulp.apis.coin_api.COINMP_DLL'> unavailable\n",
      "Solver <class 'pulp.apis.glpk_api.GLPK_CMD'> available\n",
      "Solver <class 'pulp.apis.xpress_api.XPRESS'> unavailable\n",
      "Solver <class 'pulp.apis.gurobi_api.GUROBI'> unavailable\n",
      "Solver <class 'pulp.apis.gurobi_api.GUROBI_CMD'> unavailable\n",
      "Solver <class 'pulp.apis.glpk_api.PYGLPK'> unavailable\n",
      "Solver <class 'pulp.apis.coin_api.YAPOSIB'> unavailable\n",
      "Solver <class 'pulp.apis.choco_api.PULP_CHOCO_CMD'> available\n",
      "Solver <class 'pulp.apis.choco_api.CHOCO_CMD'> unavailable\n",
      "Solver <class 'pulp.apis.mipcl_api.MIPCL_CMD'> unavailable\n",
      "Solver <class 'pulp.apis.mosek_api.MOSEK'> unavailable\n",
      "Solver <class 'pulp.apis.scip_api.SCIP_CMD'> unavailable\n",
      "\t Testing invalid status\n",
      "\t Testing continuous LP solution - export dict\n"
     ]
    },
    {
     "name": "stderr",
     "output_type": "stream",
     "text": [
      "............"
     ]
    },
    {
     "name": "stdout",
     "output_type": "stream",
     "text": [
      "\t Testing MIP solution\n",
      "\t Testing maximize continuous LP solution\n",
      "\t Testing continuous LP solution - export JSON\n",
      "\t Testing continuous LP solution - export solver dict\n",
      "\t Testing continuous LP solution - export solver JSON\n",
      "\t Testing makeDict general behavior\n",
      "\t Testing makeDict default value behavior\n",
      "\t Testing the availability of the function pulpTestAll\n",
      "\t Testing zero subtraction\n",
      "\t Testing inconsistent lp solution\n",
      "\t Testing continuous LP solution\n",
      "\t Testing maximize continuous LP solution\n"
     ]
    },
    {
     "name": "stderr",
     "output_type": "stream",
     "text": [
      "........."
     ]
    },
    {
     "name": "stdout",
     "output_type": "stream",
     "text": [
      "\t Testing unbounded continuous LP solution\n",
      "\t Testing Long Names\n",
      "\t Testing repeated Names\n",
      "\t Testing zero constraint\n",
      "\t Testing zero objective\n",
      "\t Testing LpVariable (not LpAffineExpression) objective\n",
      "\t Testing Long lines in LP\n",
      "\t Testing LpAffineExpression divide\n"
     ]
    },
    {
     "name": "stderr",
     "output_type": "stream",
     "text": [
      "......"
     ]
    },
    {
     "name": "stdout",
     "output_type": "stream",
     "text": [
      "\t Testing MIP solution\n",
      "\t Testing MIP solution with floats in objective\n",
      "\t Testing MIP solution\n",
      "\t Testing MIP solution\n",
      "\t Testing MIP relaxation\n",
      "\t Testing feasibility problem (no objective)\n",
      "\t Testing an infeasible problem\n"
     ]
    },
    {
     "name": "stderr",
     "output_type": "stream",
     "text": [
      "......."
     ]
    },
    {
     "name": "stdout",
     "output_type": "stream",
     "text": [
      "\t Testing an integer infeasible problem\n",
      "\t Testing another integer infeasible problem\n",
      "\t Testing column based modelling\n",
      "\t Testing dual variables and slacks reporting\n"
     ]
    },
    {
     "name": "stderr",
     "output_type": "stream",
     "text": [
      "........"
     ]
    },
    {
     "name": "stdout",
     "output_type": "stream",
     "text": [
      "\t Testing fractional constraints\n",
      "\t Testing elastic constraints (no change)\n",
      "\t Testing elastic constraints (freebound)\n",
      "\t Testing elastic constraints (penalty unchanged)\n",
      "\t Testing elastic constraints (penalty unbounded)\n",
      "\t Testing invalid status\n",
      "\t Testing continuous LP solution - export dict\n"
     ]
    },
    {
     "name": "stderr",
     "output_type": "stream",
     "text": [
      "............"
     ]
    },
    {
     "name": "stdout",
     "output_type": "stream",
     "text": [
      "\t Testing MIP solution\n",
      "\t Testing maximize continuous LP solution\n",
      "\t Testing continuous LP solution - export JSON\n",
      "\t Testing continuous LP solution - export solver dict\n",
      "\t Testing continuous LP solution - export solver JSON\n",
      "\t Testing makeDict general behavior\n",
      "\t Testing makeDict default value behavior\n",
      "\t Testing the availability of the function pulpTestAll\n",
      "\t Testing zero subtraction\n",
      "\t Testing inconsistent lp solution\n",
      "\t Testing continuous LP solution\n"
     ]
    },
    {
     "name": "stderr",
     "output_type": "stream",
     "text": [
      "........"
     ]
    },
    {
     "name": "stdout",
     "output_type": "stream",
     "text": [
      "\t Testing maximize continuous LP solution\n",
      "\t Testing unbounded continuous LP solution\n",
      "\t Testing Long Names\n",
      "\t Testing repeated Names\n",
      "\t Testing zero constraint\n",
      "\t Testing zero objective\n",
      "\t Testing LpVariable (not LpAffineExpression) objective\n"
     ]
    },
    {
     "name": "stderr",
     "output_type": "stream",
     "text": [
      "........"
     ]
    },
    {
     "name": "stdout",
     "output_type": "stream",
     "text": [
      "\t Testing LpAffineExpression divide\n",
      "\t Testing MIP solution\n",
      "\t Testing MIP solution with floats in objective\n",
      "\t Testing MIP solution\n",
      "\t Testing MIP solution\n",
      "\t Testing MIP relaxation\n",
      "\t Testing feasibility problem (no objective)\n"
     ]
    },
    {
     "name": "stderr",
     "output_type": "stream",
     "text": [
      ".........."
     ]
    },
    {
     "name": "stdout",
     "output_type": "stream",
     "text": [
      "\t Testing an infeasible problem\n",
      "\t Testing an integer infeasible problem\n",
      "\t Testing another integer infeasible problem\n",
      "\t Testing column based modelling\n",
      "\t Testing fractional constraints\n",
      "\t Testing elastic constraints (no change)\n"
     ]
    },
    {
     "name": "stderr",
     "output_type": "stream",
     "text": [
      "....."
     ]
    },
    {
     "name": "stdout",
     "output_type": "stream",
     "text": [
      "\t Testing elastic constraints (freebound)\n",
      "\t Testing elastic constraints (penalty unchanged)\n",
      "\t Testing elastic constraints (penalty unbounded)\n",
      "\t Testing invalid status\n",
      "\t Testing continuous LP solution - export dict\n"
     ]
    },
    {
     "name": "stderr",
     "output_type": "stream",
     "text": [
      "EEEEEE......EE.E."
     ]
    },
    {
     "name": "stdout",
     "output_type": "stream",
     "text": [
      "\t Testing MIP solution\n",
      "\t Testing maximize continuous LP solution\n",
      "\t Testing continuous LP solution - export JSON\n",
      "\t Testing continuous LP solution - export solver dict\n",
      "\t Testing continuous LP solution - export solver JSON\n",
      "\t Testing makeDict general behavior\n",
      "\t Testing makeDict default value behavior\n",
      "\t Testing the availability of the function pulpTestAll\n",
      "\t Testing zero subtraction\n",
      "\t Testing inconsistent lp solution\n",
      "\t Testing continuous LP solution\n",
      "\t Testing maximize continuous LP solution\n",
      "\t Testing unbounded continuous LP solution\n",
      "\t Testing Long Names\n",
      "\t Testing repeated Names\n",
      "\t Testing zero constraint\n"
     ]
    },
    {
     "name": "stderr",
     "output_type": "stream",
     "text": [
      "EEE.EEEEEE:\\Anaconda3\\lib\\site-packages\\pulp\\apis\\choco_api.py:83: UserWarning: CHOCO_CMD cannot solve the relaxation of a problem\n",
      "  warnings.warn(\"CHOCO_CMD cannot solve the relaxation of a problem\")\n",
      "E"
     ]
    },
    {
     "name": "stdout",
     "output_type": "stream",
     "text": [
      "\t Testing zero objective\n",
      "\t Testing LpVariable (not LpAffineExpression) objective\n",
      "\t Testing LpAffineExpression divide\n",
      "\t Testing MIP solution\n",
      "\t Testing MIP solution with floats in objective\n",
      "\t Testing MIP solution\n",
      "\t Testing MIP solution\n",
      "\t Testing MIP relaxation\n",
      "\t Testing feasibility problem (no objective)\n"
     ]
    },
    {
     "name": "stderr",
     "output_type": "stream",
     "text": [
      "EEEEE..E.EEE"
     ]
    },
    {
     "name": "stdout",
     "output_type": "stream",
     "text": [
      "\t Testing an infeasible problem\n",
      "\t Testing an integer infeasible problem\n",
      "\t Testing another integer infeasible problem\n",
      "\t Testing column based modelling\n",
      "\t Testing fractional constraints\n",
      "\t Testing elastic constraints (no change)\n",
      "\t Testing elastic constraints (freebound)\n"
     ]
    },
    {
     "name": "stderr",
     "output_type": "stream",
     "text": [
      "E..............."
     ]
    },
    {
     "name": "stdout",
     "output_type": "stream",
     "text": [
      "\t Testing elastic constraints (penalty unchanged)\n",
      "\t Testing elastic constraints (penalty unbounded)\n"
     ]
    },
    {
     "name": "stderr",
     "output_type": "stream",
     "text": [
      ".................."
     ]
    },
    {
     "name": "stdout",
     "output_type": "stream",
     "text": [
      "{'a': 53.0, 'b': 45.3, 'c': 459.2}\n"
     ]
    },
    {
     "name": "stderr",
     "output_type": "stream",
     "text": [
      "............\n",
      "======================================================================\n",
      "ERROR: test_export_dict_LP (pulp.tests.test_pulp.PuLPTest)\n",
      "----------------------------------------------------------------------\n",
      "Traceback (most recent call last):\n",
      "  File \"E:\\Anaconda3\\lib\\site-packages\\pulp\\tests\\test_pulp.py\", line 680, in test_export_dict_LP\n",
      "    pulpTestCheck(prob1, self.solver, [const.LpStatusOptimal], {x: 4, y: -1, z: 6, w: 0})\n",
      "  File \"E:\\Anaconda3\\lib\\site-packages\\pulp\\tests\\test_pulp.py\", line 870, in pulpTestCheck\n",
      "    status = prob.solve(solver, **kwargs)\n",
      "  File \"E:\\Anaconda3\\lib\\site-packages\\pulp\\pulp.py\", line 1899, in solve\n",
      "    status = solver.actualSolve(self, **kwargs)\n",
      "  File \"E:\\Anaconda3\\lib\\site-packages\\pulp\\apis\\choco_api.py\", line 92, in actualSolve\n",
      "    raise PulpSolverError(\"PuLP: Error while trying to execute \"+self.path)\n",
      "pulp.apis.core.PulpSolverError: PuLP: Error while trying to execute E:\\Anaconda3\\lib\\site-packages\\pulp\\apis\\../solverdir/choco/choco-parsers-with-dependencies.jar\n",
      "\n",
      "======================================================================\n",
      "ERROR: test_export_dict_MIP (pulp.tests.test_pulp.PuLPTest)\n",
      "----------------------------------------------------------------------\n",
      "Traceback (most recent call last):\n",
      "  File \"E:\\Anaconda3\\lib\\site-packages\\pulp\\tests\\test_pulp.py\", line 720, in test_export_dict_MIP\n",
      "    pulpTestCheck(prob1, self.solver, [const.LpStatusOptimal], {x: 3, y: -0.5, z: 7})\n",
      "  File \"E:\\Anaconda3\\lib\\site-packages\\pulp\\tests\\test_pulp.py\", line 870, in pulpTestCheck\n",
      "    status = prob.solve(solver, **kwargs)\n",
      "  File \"E:\\Anaconda3\\lib\\site-packages\\pulp\\pulp.py\", line 1899, in solve\n",
      "    status = solver.actualSolve(self, **kwargs)\n",
      "  File \"E:\\Anaconda3\\lib\\site-packages\\pulp\\apis\\choco_api.py\", line 92, in actualSolve\n",
      "    raise PulpSolverError(\"PuLP: Error while trying to execute \"+self.path)\n",
      "pulp.apis.core.PulpSolverError: PuLP: Error while trying to execute E:\\Anaconda3\\lib\\site-packages\\pulp\\apis\\../solverdir/choco/choco-parsers-with-dependencies.jar\n",
      "\n",
      "======================================================================\n",
      "ERROR: test_export_dict_max (pulp.tests.test_pulp.PuLPTest)\n",
      "----------------------------------------------------------------------\n",
      "Traceback (most recent call last):\n",
      "  File \"E:\\Anaconda3\\lib\\site-packages\\pulp\\tests\\test_pulp.py\", line 739, in test_export_dict_max\n",
      "    pulpTestCheck(prob1, self.solver, [const.LpStatusOptimal], {x: 4, y: 1, z: 8, w: 0})\n",
      "  File \"E:\\Anaconda3\\lib\\site-packages\\pulp\\tests\\test_pulp.py\", line 870, in pulpTestCheck\n",
      "    status = prob.solve(solver, **kwargs)\n",
      "  File \"E:\\Anaconda3\\lib\\site-packages\\pulp\\pulp.py\", line 1899, in solve\n",
      "    status = solver.actualSolve(self, **kwargs)\n",
      "  File \"E:\\Anaconda3\\lib\\site-packages\\pulp\\apis\\choco_api.py\", line 92, in actualSolve\n",
      "    raise PulpSolverError(\"PuLP: Error while trying to execute \"+self.path)\n",
      "pulp.apis.core.PulpSolverError: PuLP: Error while trying to execute E:\\Anaconda3\\lib\\site-packages\\pulp\\apis\\../solverdir/choco/choco-parsers-with-dependencies.jar\n",
      "\n",
      "======================================================================\n",
      "ERROR: test_export_json_LP (pulp.tests.test_pulp.PuLPTest)\n",
      "----------------------------------------------------------------------\n",
      "Traceback (most recent call last):\n",
      "  File \"E:\\Anaconda3\\lib\\site-packages\\pulp\\tests\\test_pulp.py\", line 703, in test_export_json_LP\n",
      "    pulpTestCheck(prob1, self.solver, [const.LpStatusOptimal], {x: 4, y: -1, z: 6, w: 0})\n",
      "  File \"E:\\Anaconda3\\lib\\site-packages\\pulp\\tests\\test_pulp.py\", line 870, in pulpTestCheck\n",
      "    status = prob.solve(solver, **kwargs)\n",
      "  File \"E:\\Anaconda3\\lib\\site-packages\\pulp\\pulp.py\", line 1899, in solve\n",
      "    status = solver.actualSolve(self, **kwargs)\n",
      "  File \"E:\\Anaconda3\\lib\\site-packages\\pulp\\apis\\choco_api.py\", line 92, in actualSolve\n",
      "    raise PulpSolverError(\"PuLP: Error while trying to execute \"+self.path)\n",
      "pulp.apis.core.PulpSolverError: PuLP: Error while trying to execute E:\\Anaconda3\\lib\\site-packages\\pulp\\apis\\../solverdir/choco/choco-parsers-with-dependencies.jar\n",
      "\n",
      "======================================================================\n",
      "ERROR: test_export_solver_dict_LP (pulp.tests.test_pulp.PuLPTest)\n",
      "----------------------------------------------------------------------\n",
      "Traceback (most recent call last):\n",
      "  File \"E:\\Anaconda3\\lib\\site-packages\\pulp\\tests\\test_pulp.py\", line 755, in test_export_solver_dict_LP\n",
      "    pulpTestCheck(prob, solver1, [const.LpStatusOptimal], {x: 4, y: -1, z: 6, w: 0})\n",
      "  File \"E:\\Anaconda3\\lib\\site-packages\\pulp\\tests\\test_pulp.py\", line 870, in pulpTestCheck\n",
      "    status = prob.solve(solver, **kwargs)\n",
      "  File \"E:\\Anaconda3\\lib\\site-packages\\pulp\\pulp.py\", line 1899, in solve\n",
      "    status = solver.actualSolve(self, **kwargs)\n",
      "  File \"E:\\Anaconda3\\lib\\site-packages\\pulp\\apis\\choco_api.py\", line 92, in actualSolve\n",
      "    raise PulpSolverError(\"PuLP: Error while trying to execute \"+self.path)\n",
      "pulp.apis.core.PulpSolverError: PuLP: Error while trying to execute E:\\Anaconda3\\lib\\site-packages\\pulp\\apis\\../solverdir/choco/choco-parsers-with-dependencies.jar\n",
      "\n",
      "======================================================================\n",
      "ERROR: test_export_solver_json (pulp.tests.test_pulp.PuLPTest)\n",
      "----------------------------------------------------------------------\n",
      "Traceback (most recent call last):\n",
      "  File \"E:\\Anaconda3\\lib\\site-packages\\pulp\\tests\\test_pulp.py\", line 786, in test_export_solver_json\n",
      "    pulpTestCheck(prob, solver1, [const.LpStatusOptimal], {x: 4, y: -1, z: 6, w: 0})\n",
      "  File \"E:\\Anaconda3\\lib\\site-packages\\pulp\\tests\\test_pulp.py\", line 870, in pulpTestCheck\n",
      "    status = prob.solve(solver, **kwargs)\n",
      "  File \"E:\\Anaconda3\\lib\\site-packages\\pulp\\pulp.py\", line 1899, in solve\n",
      "    status = solver.actualSolve(self, **kwargs)\n",
      "  File \"E:\\Anaconda3\\lib\\site-packages\\pulp\\apis\\choco_api.py\", line 92, in actualSolve\n",
      "    raise PulpSolverError(\"PuLP: Error while trying to execute \"+self.path)\n",
      "pulp.apis.core.PulpSolverError: PuLP: Error while trying to execute E:\\Anaconda3\\lib\\site-packages\\pulp\\apis\\../solverdir/choco/choco-parsers-with-dependencies.jar\n",
      "\n",
      "======================================================================\n",
      "ERROR: test_pulp_010 (pulp.tests.test_pulp.PuLPTest)\n",
      "----------------------------------------------------------------------\n",
      "Traceback (most recent call last):\n",
      "  File \"E:\\Anaconda3\\lib\\site-packages\\pulp\\tests\\test_pulp.py\", line 107, in test_pulp_010\n",
      "    pulpTestCheck(prob, self.solver, [const.LpStatusOptimal], {x: 4, y: -1, z: 6, w: 0})\n",
      "  File \"E:\\Anaconda3\\lib\\site-packages\\pulp\\tests\\test_pulp.py\", line 870, in pulpTestCheck\n",
      "    status = prob.solve(solver, **kwargs)\n",
      "  File \"E:\\Anaconda3\\lib\\site-packages\\pulp\\pulp.py\", line 1899, in solve\n",
      "    status = solver.actualSolve(self, **kwargs)\n",
      "  File \"E:\\Anaconda3\\lib\\site-packages\\pulp\\apis\\choco_api.py\", line 92, in actualSolve\n",
      "    raise PulpSolverError(\"PuLP: Error while trying to execute \"+self.path)\n",
      "pulp.apis.core.PulpSolverError: PuLP: Error while trying to execute E:\\Anaconda3\\lib\\site-packages\\pulp\\apis\\../solverdir/choco/choco-parsers-with-dependencies.jar\n",
      "\n",
      "======================================================================\n",
      "ERROR: test_pulp_011 (pulp.tests.test_pulp.PuLPTest)\n",
      "----------------------------------------------------------------------\n",
      "Traceback (most recent call last):\n",
      "  File \"E:\\Anaconda3\\lib\\site-packages\\pulp\\tests\\test_pulp.py\", line 122, in test_pulp_011\n",
      "    pulpTestCheck(prob, self.solver, [const.LpStatusOptimal], {x: 4, y: 1, z: 8, w: 0})\n",
      "  File \"E:\\Anaconda3\\lib\\site-packages\\pulp\\tests\\test_pulp.py\", line 870, in pulpTestCheck\n",
      "    status = prob.solve(solver, **kwargs)\n",
      "  File \"E:\\Anaconda3\\lib\\site-packages\\pulp\\pulp.py\", line 1899, in solve\n",
      "    status = solver.actualSolve(self, **kwargs)\n",
      "  File \"E:\\Anaconda3\\lib\\site-packages\\pulp\\apis\\choco_api.py\", line 92, in actualSolve\n",
      "    raise PulpSolverError(\"PuLP: Error while trying to execute \"+self.path)\n",
      "pulp.apis.core.PulpSolverError: PuLP: Error while trying to execute E:\\Anaconda3\\lib\\site-packages\\pulp\\apis\\../solverdir/choco/choco-parsers-with-dependencies.jar\n",
      "\n",
      "======================================================================\n",
      "ERROR: test_pulp_013 (pulp.tests.test_pulp.PuLPTest)\n",
      "----------------------------------------------------------------------\n",
      "Traceback (most recent call last):\n",
      "  File \"E:\\Anaconda3\\lib\\site-packages\\pulp\\tests\\test_pulp.py\", line 178, in test_pulp_013\n",
      "    pulpTestCheck(prob, self.solver, [const.LpStatusOptimal], {x: 4, y: -1, z: 6, w: 0})\n",
      "  File \"E:\\Anaconda3\\lib\\site-packages\\pulp\\tests\\test_pulp.py\", line 870, in pulpTestCheck\n",
      "    status = prob.solve(solver, **kwargs)\n",
      "  File \"E:\\Anaconda3\\lib\\site-packages\\pulp\\pulp.py\", line 1899, in solve\n",
      "    status = solver.actualSolve(self, **kwargs)\n",
      "  File \"E:\\Anaconda3\\lib\\site-packages\\pulp\\apis\\choco_api.py\", line 92, in actualSolve\n",
      "    raise PulpSolverError(\"PuLP: Error while trying to execute \"+self.path)\n",
      "pulp.apis.core.PulpSolverError: PuLP: Error while trying to execute E:\\Anaconda3\\lib\\site-packages\\pulp\\apis\\../solverdir/choco/choco-parsers-with-dependencies.jar\n",
      "\n",
      "======================================================================\n",
      "ERROR: test_pulp_015 (pulp.tests.test_pulp.PuLPTest)\n",
      "----------------------------------------------------------------------\n",
      "Traceback (most recent call last):\n",
      "  File \"E:\\Anaconda3\\lib\\site-packages\\pulp\\tests\\test_pulp.py\", line 219, in test_pulp_015\n",
      "    pulpTestCheck(prob, self.solver, [const.LpStatusOptimal], {x: 4, y: -1, z: 6, w: 0})\n",
      "  File \"E:\\Anaconda3\\lib\\site-packages\\pulp\\tests\\test_pulp.py\", line 870, in pulpTestCheck\n",
      "    status = prob.solve(solver, **kwargs)\n",
      "  File \"E:\\Anaconda3\\lib\\site-packages\\pulp\\pulp.py\", line 1899, in solve\n",
      "    status = solver.actualSolve(self, **kwargs)\n",
      "  File \"E:\\Anaconda3\\lib\\site-packages\\pulp\\apis\\choco_api.py\", line 92, in actualSolve\n",
      "    raise PulpSolverError(\"PuLP: Error while trying to execute \"+self.path)\n",
      "pulp.apis.core.PulpSolverError: PuLP: Error while trying to execute E:\\Anaconda3\\lib\\site-packages\\pulp\\apis\\../solverdir/choco/choco-parsers-with-dependencies.jar\n",
      "\n",
      "======================================================================\n",
      "ERROR: test_pulp_016 (pulp.tests.test_pulp.PuLPTest)\n",
      "----------------------------------------------------------------------\n",
      "Traceback (most recent call last):\n",
      "  File \"E:\\Anaconda3\\lib\\site-packages\\pulp\\tests\\test_pulp.py\", line 234, in test_pulp_016\n",
      "    pulpTestCheck(prob, self.solver, [const.LpStatusOptimal])\n",
      "  File \"E:\\Anaconda3\\lib\\site-packages\\pulp\\tests\\test_pulp.py\", line 870, in pulpTestCheck\n",
      "    status = prob.solve(solver, **kwargs)\n",
      "  File \"E:\\Anaconda3\\lib\\site-packages\\pulp\\pulp.py\", line 1899, in solve\n",
      "    status = solver.actualSolve(self, **kwargs)\n",
      "  File \"E:\\Anaconda3\\lib\\site-packages\\pulp\\apis\\choco_api.py\", line 92, in actualSolve\n",
      "    raise PulpSolverError(\"PuLP: Error while trying to execute \"+self.path)\n",
      "pulp.apis.core.PulpSolverError: PuLP: Error while trying to execute E:\\Anaconda3\\lib\\site-packages\\pulp\\apis\\../solverdir/choco/choco-parsers-with-dependencies.jar\n",
      "\n",
      "======================================================================\n",
      "ERROR: test_pulp_017 (pulp.tests.test_pulp.PuLPTest)\n",
      "----------------------------------------------------------------------\n",
      "Traceback (most recent call last):\n",
      "  File \"E:\\Anaconda3\\lib\\site-packages\\pulp\\tests\\test_pulp.py\", line 250, in test_pulp_017\n",
      "    pulpTestCheck(prob, self.solver, [const.LpStatusOptimal])\n",
      "  File \"E:\\Anaconda3\\lib\\site-packages\\pulp\\tests\\test_pulp.py\", line 870, in pulpTestCheck\n",
      "    status = prob.solve(solver, **kwargs)\n",
      "  File \"E:\\Anaconda3\\lib\\site-packages\\pulp\\pulp.py\", line 1899, in solve\n",
      "    status = solver.actualSolve(self, **kwargs)\n",
      "  File \"E:\\Anaconda3\\lib\\site-packages\\pulp\\apis\\choco_api.py\", line 92, in actualSolve\n",
      "    raise PulpSolverError(\"PuLP: Error while trying to execute \"+self.path)\n",
      "pulp.apis.core.PulpSolverError: PuLP: Error while trying to execute E:\\Anaconda3\\lib\\site-packages\\pulp\\apis\\../solverdir/choco/choco-parsers-with-dependencies.jar\n",
      "\n",
      "======================================================================\n",
      "ERROR: test_pulp_019 (pulp.tests.test_pulp.PuLPTest)\n",
      "----------------------------------------------------------------------\n",
      "Traceback (most recent call last):\n",
      "  File \"E:\\Anaconda3\\lib\\site-packages\\pulp\\tests\\test_pulp.py\", line 282, in test_pulp_019\n",
      "    pulpTestCheck(prob, self.solver, [const.LpStatusOptimal], {x: 4, y: -1, z: 6, w: 0})\n",
      "  File \"E:\\Anaconda3\\lib\\site-packages\\pulp\\tests\\test_pulp.py\", line 870, in pulpTestCheck\n",
      "    status = prob.solve(solver, **kwargs)\n",
      "  File \"E:\\Anaconda3\\lib\\site-packages\\pulp\\pulp.py\", line 1899, in solve\n",
      "    status = solver.actualSolve(self, **kwargs)\n",
      "  File \"E:\\Anaconda3\\lib\\site-packages\\pulp\\apis\\choco_api.py\", line 92, in actualSolve\n",
      "    raise PulpSolverError(\"PuLP: Error while trying to execute \"+self.path)\n",
      "pulp.apis.core.PulpSolverError: PuLP: Error while trying to execute E:\\Anaconda3\\lib\\site-packages\\pulp\\apis\\../solverdir/choco/choco-parsers-with-dependencies.jar\n",
      "\n",
      "======================================================================\n",
      "ERROR: test_pulp_020 (pulp.tests.test_pulp.PuLPTest)\n",
      "----------------------------------------------------------------------\n",
      "Traceback (most recent call last):\n",
      "  File \"E:\\Anaconda3\\lib\\site-packages\\pulp\\tests\\test_pulp.py\", line 295, in test_pulp_020\n",
      "    pulpTestCheck(prob, self.solver, [const.LpStatusOptimal], {x: 3, y: -0.5, z: 7})\n",
      "  File \"E:\\Anaconda3\\lib\\site-packages\\pulp\\tests\\test_pulp.py\", line 870, in pulpTestCheck\n",
      "    status = prob.solve(solver, **kwargs)\n",
      "  File \"E:\\Anaconda3\\lib\\site-packages\\pulp\\pulp.py\", line 1899, in solve\n",
      "    status = solver.actualSolve(self, **kwargs)\n",
      "  File \"E:\\Anaconda3\\lib\\site-packages\\pulp\\apis\\choco_api.py\", line 92, in actualSolve\n",
      "    raise PulpSolverError(\"PuLP: Error while trying to execute \"+self.path)\n",
      "pulp.apis.core.PulpSolverError: PuLP: Error while trying to execute E:\\Anaconda3\\lib\\site-packages\\pulp\\apis\\../solverdir/choco/choco-parsers-with-dependencies.jar\n",
      "\n",
      "======================================================================\n",
      "ERROR: test_pulp_021 (pulp.tests.test_pulp.PuLPTest)\n",
      "----------------------------------------------------------------------\n",
      "Traceback (most recent call last):\n",
      "  File \"E:\\Anaconda3\\lib\\site-packages\\pulp\\tests\\test_pulp.py\", line 308, in test_pulp_021\n",
      "    pulpTestCheck(prob, self.solver, [const.LpStatusOptimal], {x: 3, y: -0.5, z: 7},\n",
      "  File \"E:\\Anaconda3\\lib\\site-packages\\pulp\\tests\\test_pulp.py\", line 870, in pulpTestCheck\n",
      "    status = prob.solve(solver, **kwargs)\n",
      "  File \"E:\\Anaconda3\\lib\\site-packages\\pulp\\pulp.py\", line 1899, in solve\n",
      "    status = solver.actualSolve(self, **kwargs)\n",
      "  File \"E:\\Anaconda3\\lib\\site-packages\\pulp\\apis\\choco_api.py\", line 92, in actualSolve\n",
      "    raise PulpSolverError(\"PuLP: Error while trying to execute \"+self.path)\n",
      "pulp.apis.core.PulpSolverError: PuLP: Error while trying to execute E:\\Anaconda3\\lib\\site-packages\\pulp\\apis\\../solverdir/choco/choco-parsers-with-dependencies.jar\n",
      "\n",
      "======================================================================\n",
      "ERROR: test_pulp_022 (pulp.tests.test_pulp.PuLPTest)\n",
      "----------------------------------------------------------------------\n",
      "Traceback (most recent call last):\n",
      "  File \"E:\\Anaconda3\\lib\\site-packages\\pulp\\tests\\test_pulp.py\", line 328, in test_pulp_022\n",
      "    pulpTestCheck(prob, self.solver, [const.LpStatusOptimal], {x: 3, y: -0.5, z: 7})\n",
      "  File \"E:\\Anaconda3\\lib\\site-packages\\pulp\\tests\\test_pulp.py\", line 870, in pulpTestCheck\n",
      "    status = prob.solve(solver, **kwargs)\n",
      "  File \"E:\\Anaconda3\\lib\\site-packages\\pulp\\pulp.py\", line 1899, in solve\n",
      "    status = solver.actualSolve(self, **kwargs)\n",
      "  File \"E:\\Anaconda3\\lib\\site-packages\\pulp\\apis\\choco_api.py\", line 92, in actualSolve\n",
      "    raise PulpSolverError(\"PuLP: Error while trying to execute \"+self.path)\n",
      "pulp.apis.core.PulpSolverError: PuLP: Error while trying to execute E:\\Anaconda3\\lib\\site-packages\\pulp\\apis\\../solverdir/choco/choco-parsers-with-dependencies.jar\n",
      "\n",
      "======================================================================\n",
      "ERROR: test_pulp_023 (pulp.tests.test_pulp.PuLPTest)\n",
      "----------------------------------------------------------------------\n",
      "Traceback (most recent call last):\n",
      "  File \"E:\\Anaconda3\\lib\\site-packages\\pulp\\tests\\test_pulp.py\", line 346, in test_pulp_023\n",
      "    pulpTestCheck(prob, self.solver, [const.LpStatusOptimal], solution)\n",
      "  File \"E:\\Anaconda3\\lib\\site-packages\\pulp\\tests\\test_pulp.py\", line 870, in pulpTestCheck\n",
      "    status = prob.solve(solver, **kwargs)\n",
      "  File \"E:\\Anaconda3\\lib\\site-packages\\pulp\\pulp.py\", line 1899, in solve\n",
      "    status = solver.actualSolve(self, **kwargs)\n",
      "  File \"E:\\Anaconda3\\lib\\site-packages\\pulp\\apis\\choco_api.py\", line 92, in actualSolve\n",
      "    raise PulpSolverError(\"PuLP: Error while trying to execute \"+self.path)\n",
      "pulp.apis.core.PulpSolverError: PuLP: Error while trying to execute E:\\Anaconda3\\lib\\site-packages\\pulp\\apis\\../solverdir/choco/choco-parsers-with-dependencies.jar\n",
      "\n",
      "======================================================================\n",
      "ERROR: test_pulp_030 (pulp.tests.test_pulp.PuLPTest)\n",
      "----------------------------------------------------------------------\n",
      "Traceback (most recent call last):\n",
      "  File \"E:\\Anaconda3\\lib\\site-packages\\pulp\\tests\\test_pulp.py\", line 362, in test_pulp_030\n",
      "    pulpTestCheck(prob, self.solver, [const.LpStatusOptimal], {x: 3.0, y: -0.5, z: 7})\n",
      "  File \"E:\\Anaconda3\\lib\\site-packages\\pulp\\tests\\test_pulp.py\", line 870, in pulpTestCheck\n",
      "    status = prob.solve(solver, **kwargs)\n",
      "  File \"E:\\Anaconda3\\lib\\site-packages\\pulp\\pulp.py\", line 1899, in solve\n",
      "    status = solver.actualSolve(self, **kwargs)\n",
      "  File \"E:\\Anaconda3\\lib\\site-packages\\pulp\\apis\\choco_api.py\", line 92, in actualSolve\n",
      "    raise PulpSolverError(\"PuLP: Error while trying to execute \"+self.path)\n",
      "pulp.apis.core.PulpSolverError: PuLP: Error while trying to execute E:\\Anaconda3\\lib\\site-packages\\pulp\\apis\\../solverdir/choco/choco-parsers-with-dependencies.jar\n",
      "\n",
      "======================================================================\n",
      "ERROR: test_pulp_040 (pulp.tests.test_pulp.PuLPTest)\n",
      "----------------------------------------------------------------------\n",
      "Traceback (most recent call last):\n",
      "  File \"E:\\Anaconda3\\lib\\site-packages\\pulp\\tests\\test_pulp.py\", line 376, in test_pulp_040\n",
      "    pulpTestCheck(prob, self.solver, [const.LpStatusOptimal])\n",
      "  File \"E:\\Anaconda3\\lib\\site-packages\\pulp\\tests\\test_pulp.py\", line 870, in pulpTestCheck\n",
      "    status = prob.solve(solver, **kwargs)\n",
      "  File \"E:\\Anaconda3\\lib\\site-packages\\pulp\\pulp.py\", line 1899, in solve\n",
      "    status = solver.actualSolve(self, **kwargs)\n",
      "  File \"E:\\Anaconda3\\lib\\site-packages\\pulp\\apis\\choco_api.py\", line 92, in actualSolve\n",
      "    raise PulpSolverError(\"PuLP: Error while trying to execute \"+self.path)\n",
      "pulp.apis.core.PulpSolverError: PuLP: Error while trying to execute E:\\Anaconda3\\lib\\site-packages\\pulp\\apis\\../solverdir/choco/choco-parsers-with-dependencies.jar\n",
      "\n",
      "======================================================================\n",
      "ERROR: test_pulp_050 (pulp.tests.test_pulp.PuLPTest)\n",
      "----------------------------------------------------------------------\n",
      "Traceback (most recent call last):\n",
      "  File \"E:\\Anaconda3\\lib\\site-packages\\pulp\\tests\\test_pulp.py\", line 395, in test_pulp_050\n",
      "    pulpTestCheck(prob, self.solver, [const.LpStatusInfeasible])\n",
      "  File \"E:\\Anaconda3\\lib\\site-packages\\pulp\\tests\\test_pulp.py\", line 870, in pulpTestCheck\n",
      "    status = prob.solve(solver, **kwargs)\n",
      "  File \"E:\\Anaconda3\\lib\\site-packages\\pulp\\pulp.py\", line 1899, in solve\n",
      "    status = solver.actualSolve(self, **kwargs)\n",
      "  File \"E:\\Anaconda3\\lib\\site-packages\\pulp\\apis\\choco_api.py\", line 92, in actualSolve\n",
      "    raise PulpSolverError(\"PuLP: Error while trying to execute \"+self.path)\n",
      "pulp.apis.core.PulpSolverError: PuLP: Error while trying to execute E:\\Anaconda3\\lib\\site-packages\\pulp\\apis\\../solverdir/choco/choco-parsers-with-dependencies.jar\n",
      "\n",
      "======================================================================\n",
      "ERROR: test_pulp_060 (pulp.tests.test_pulp.PuLPTest)\n",
      "----------------------------------------------------------------------\n",
      "Traceback (most recent call last):\n",
      "  File \"E:\\Anaconda3\\lib\\site-packages\\pulp\\tests\\test_pulp.py\", line 418, in test_pulp_060\n",
      "    pulpTestCheck(prob, self.solver, [const.LpStatusInfeasible])\n",
      "  File \"E:\\Anaconda3\\lib\\site-packages\\pulp\\tests\\test_pulp.py\", line 870, in pulpTestCheck\n",
      "    status = prob.solve(solver, **kwargs)\n",
      "  File \"E:\\Anaconda3\\lib\\site-packages\\pulp\\pulp.py\", line 1899, in solve\n",
      "    status = solver.actualSolve(self, **kwargs)\n",
      "  File \"E:\\Anaconda3\\lib\\site-packages\\pulp\\apis\\choco_api.py\", line 92, in actualSolve\n",
      "    raise PulpSolverError(\"PuLP: Error while trying to execute \"+self.path)\n",
      "pulp.apis.core.PulpSolverError: PuLP: Error while trying to execute E:\\Anaconda3\\lib\\site-packages\\pulp\\apis\\../solverdir/choco/choco-parsers-with-dependencies.jar\n",
      "\n",
      "======================================================================\n",
      "ERROR: test_pulp_061 (pulp.tests.test_pulp.PuLPTest)\n",
      "----------------------------------------------------------------------\n",
      "Traceback (most recent call last):\n",
      "  File \"E:\\Anaconda3\\lib\\site-packages\\pulp\\tests\\test_pulp.py\", line 438, in test_pulp_061\n",
      "    pulpTestCheck(prob, self.solver, [const.LpStatusInfeasible])\n",
      "  File \"E:\\Anaconda3\\lib\\site-packages\\pulp\\tests\\test_pulp.py\", line 870, in pulpTestCheck\n",
      "    status = prob.solve(solver, **kwargs)\n",
      "  File \"E:\\Anaconda3\\lib\\site-packages\\pulp\\pulp.py\", line 1899, in solve\n",
      "    status = solver.actualSolve(self, **kwargs)\n",
      "  File \"E:\\Anaconda3\\lib\\site-packages\\pulp\\apis\\choco_api.py\", line 92, in actualSolve\n",
      "    raise PulpSolverError(\"PuLP: Error while trying to execute \"+self.path)\n",
      "pulp.apis.core.PulpSolverError: PuLP: Error while trying to execute E:\\Anaconda3\\lib\\site-packages\\pulp\\apis\\../solverdir/choco/choco-parsers-with-dependencies.jar\n",
      "\n",
      "======================================================================\n",
      "ERROR: test_pulp_070 (pulp.tests.test_pulp.PuLPTest)\n",
      "----------------------------------------------------------------------\n",
      "Traceback (most recent call last):\n",
      "  File \"E:\\Anaconda3\\lib\\site-packages\\pulp\\tests\\test_pulp.py\", line 458, in test_pulp_070\n",
      "    pulpTestCheck(prob, self.solver, [const.LpStatusOptimal], {x: 4, y: -1, z: 6})\n",
      "  File \"E:\\Anaconda3\\lib\\site-packages\\pulp\\tests\\test_pulp.py\", line 870, in pulpTestCheck\n",
      "    status = prob.solve(solver, **kwargs)\n",
      "  File \"E:\\Anaconda3\\lib\\site-packages\\pulp\\pulp.py\", line 1899, in solve\n",
      "    status = solver.actualSolve(self, **kwargs)\n",
      "  File \"E:\\Anaconda3\\lib\\site-packages\\pulp\\apis\\choco_api.py\", line 92, in actualSolve\n",
      "    raise PulpSolverError(\"PuLP: Error while trying to execute \"+self.path)\n",
      "pulp.apis.core.PulpSolverError: PuLP: Error while trying to execute E:\\Anaconda3\\lib\\site-packages\\pulp\\apis\\../solverdir/choco/choco-parsers-with-dependencies.jar\n",
      "\n",
      "======================================================================\n",
      "ERROR: test_pulp_090 (pulp.tests.test_pulp.PuLPTest)\n",
      "----------------------------------------------------------------------\n",
      "Traceback (most recent call last):\n",
      "  File \"E:\\Anaconda3\\lib\\site-packages\\pulp\\tests\\test_pulp.py\", line 525, in test_pulp_090\n",
      "    prob.resolve()\n",
      "  File \"E:\\Anaconda3\\lib\\site-packages\\pulp\\pulp.py\", line 1954, in resolve\n",
      "    return self.solve(solver = solver, **kwargs)\n",
      "  File \"E:\\Anaconda3\\lib\\site-packages\\pulp\\pulp.py\", line 1899, in solve\n",
      "    status = solver.actualSolve(self, **kwargs)\n",
      "  File \"E:\\Anaconda3\\lib\\site-packages\\pulp\\apis\\choco_api.py\", line 92, in actualSolve\n",
      "    raise PulpSolverError(\"PuLP: Error while trying to execute \"+self.path)\n",
      "pulp.apis.core.PulpSolverError: PuLP: Error while trying to execute E:\\Anaconda3\\lib\\site-packages\\pulp\\apis\\../solverdir/choco/choco-parsers-with-dependencies.jar\n",
      "\n",
      "======================================================================\n",
      "ERROR: test_pulp_110 (pulp.tests.test_pulp.PuLPTest)\n",
      "Test the ability to use fractional constraints\n",
      "----------------------------------------------------------------------\n",
      "Traceback (most recent call last):\n",
      "  File \"E:\\Anaconda3\\lib\\site-packages\\pulp\\tests\\test_pulp.py\", line 571, in test_pulp_110\n",
      "    pulpTestCheck(prob, self.solver, [const.LpStatusOptimal],\n",
      "  File \"E:\\Anaconda3\\lib\\site-packages\\pulp\\tests\\test_pulp.py\", line 870, in pulpTestCheck\n",
      "    status = prob.solve(solver, **kwargs)\n",
      "  File \"E:\\Anaconda3\\lib\\site-packages\\pulp\\pulp.py\", line 1899, in solve\n",
      "    status = solver.actualSolve(self, **kwargs)\n",
      "  File \"E:\\Anaconda3\\lib\\site-packages\\pulp\\apis\\choco_api.py\", line 92, in actualSolve\n",
      "    raise PulpSolverError(\"PuLP: Error while trying to execute \"+self.path)\n",
      "pulp.apis.core.PulpSolverError: PuLP: Error while trying to execute E:\\Anaconda3\\lib\\site-packages\\pulp\\apis\\../solverdir/choco/choco-parsers-with-dependencies.jar\n",
      "\n",
      "======================================================================\n",
      "ERROR: test_pulp_120 (pulp.tests.test_pulp.PuLPTest)\n",
      "Test the ability to use Elastic constraints\n",
      "----------------------------------------------------------------------\n",
      "Traceback (most recent call last):\n",
      "  File \"E:\\Anaconda3\\lib\\site-packages\\pulp\\tests\\test_pulp.py\", line 589, in test_pulp_120\n",
      "    pulpTestCheck(prob, self.solver, [const.LpStatusOptimal],\n",
      "  File \"E:\\Anaconda3\\lib\\site-packages\\pulp\\tests\\test_pulp.py\", line 870, in pulpTestCheck\n",
      "    status = prob.solve(solver, **kwargs)\n",
      "  File \"E:\\Anaconda3\\lib\\site-packages\\pulp\\pulp.py\", line 1899, in solve\n",
      "    status = solver.actualSolve(self, **kwargs)\n",
      "  File \"E:\\Anaconda3\\lib\\site-packages\\pulp\\apis\\choco_api.py\", line 92, in actualSolve\n",
      "    raise PulpSolverError(\"PuLP: Error while trying to execute \"+self.path)\n",
      "pulp.apis.core.PulpSolverError: PuLP: Error while trying to execute E:\\Anaconda3\\lib\\site-packages\\pulp\\apis\\../solverdir/choco/choco-parsers-with-dependencies.jar\n",
      "\n",
      "======================================================================\n",
      "ERROR: test_pulp_121 (pulp.tests.test_pulp.PuLPTest)\n",
      "Test the ability to use Elastic constraints\n",
      "----------------------------------------------------------------------\n",
      "Traceback (most recent call last):\n",
      "  File \"E:\\Anaconda3\\lib\\site-packages\\pulp\\tests\\test_pulp.py\", line 607, in test_pulp_121\n",
      "    pulpTestCheck(prob, self.solver, [const.LpStatusOptimal],\n",
      "  File \"E:\\Anaconda3\\lib\\site-packages\\pulp\\tests\\test_pulp.py\", line 870, in pulpTestCheck\n",
      "    status = prob.solve(solver, **kwargs)\n",
      "  File \"E:\\Anaconda3\\lib\\site-packages\\pulp\\pulp.py\", line 1899, in solve\n",
      "    status = solver.actualSolve(self, **kwargs)\n",
      "  File \"E:\\Anaconda3\\lib\\site-packages\\pulp\\apis\\choco_api.py\", line 92, in actualSolve\n",
      "    raise PulpSolverError(\"PuLP: Error while trying to execute \"+self.path)\n",
      "pulp.apis.core.PulpSolverError: PuLP: Error while trying to execute E:\\Anaconda3\\lib\\site-packages\\pulp\\apis\\../solverdir/choco/choco-parsers-with-dependencies.jar\n",
      "\n",
      "======================================================================\n",
      "ERROR: test_pulp_122 (pulp.tests.test_pulp.PuLPTest)\n",
      "Test the ability to use Elastic constraints (penalty unchanged)\n",
      "----------------------------------------------------------------------\n",
      "Traceback (most recent call last):\n",
      "  File \"E:\\Anaconda3\\lib\\site-packages\\pulp\\tests\\test_pulp.py\", line 625, in test_pulp_122\n",
      "    pulpTestCheck(prob, self.solver, [const.LpStatusOptimal],\n",
      "  File \"E:\\Anaconda3\\lib\\site-packages\\pulp\\tests\\test_pulp.py\", line 870, in pulpTestCheck\n",
      "    status = prob.solve(solver, **kwargs)\n",
      "  File \"E:\\Anaconda3\\lib\\site-packages\\pulp\\pulp.py\", line 1899, in solve\n",
      "    status = solver.actualSolve(self, **kwargs)\n",
      "  File \"E:\\Anaconda3\\lib\\site-packages\\pulp\\apis\\choco_api.py\", line 92, in actualSolve\n",
      "    raise PulpSolverError(\"PuLP: Error while trying to execute \"+self.path)\n",
      "pulp.apis.core.PulpSolverError: PuLP: Error while trying to execute E:\\Anaconda3\\lib\\site-packages\\pulp\\apis\\../solverdir/choco/choco-parsers-with-dependencies.jar\n",
      "\n",
      "----------------------------------------------------------------------\n",
      "Ran 172 tests in 3.306s\n",
      "\n",
      "FAILED (errors=28)\n"
     ]
    },
    {
     "ename": "PulpError",
     "evalue": "Tests Failed",
     "output_type": "error",
     "traceback": [
      "\u001b[1;31m---------------------------------------------------------------------------\u001b[0m",
      "\u001b[1;31mPulpError\u001b[0m                                 Traceback (most recent call last)",
      "\u001b[1;32m<ipython-input-4-3641ef1ec295>\u001b[0m in \u001b[0;36m<module>\u001b[1;34m\u001b[0m\n\u001b[1;32m----> 1\u001b[1;33m \u001b[0mpulp\u001b[0m\u001b[1;33m.\u001b[0m\u001b[0mpulpTestAll\u001b[0m\u001b[1;33m(\u001b[0m\u001b[1;33m)\u001b[0m\u001b[1;33m\u001b[0m\u001b[1;33m\u001b[0m\u001b[0m\n\u001b[0m",
      "\u001b[1;32mE:\\Anaconda3\\lib\\site-packages\\pulp\\tests\\run_tests.py\u001b[0m in \u001b[0;36mpulpTestAll\u001b[1;34m(test_docs)\u001b[0m\n\u001b[0;32m      9\u001b[0m     \u001b[0mret\u001b[0m \u001b[1;33m=\u001b[0m \u001b[0mrunner\u001b[0m\u001b[1;33m.\u001b[0m\u001b[0mrun\u001b[0m\u001b[1;33m(\u001b[0m\u001b[0msuite_all\u001b[0m\u001b[1;33m)\u001b[0m\u001b[1;33m\u001b[0m\u001b[1;33m\u001b[0m\u001b[0m\n\u001b[0;32m     10\u001b[0m     \u001b[1;32mif\u001b[0m \u001b[1;32mnot\u001b[0m \u001b[0mret\u001b[0m\u001b[1;33m.\u001b[0m\u001b[0mwasSuccessful\u001b[0m\u001b[1;33m(\u001b[0m\u001b[1;33m)\u001b[0m\u001b[1;33m:\u001b[0m\u001b[1;33m\u001b[0m\u001b[1;33m\u001b[0m\u001b[0m\n\u001b[1;32m---> 11\u001b[1;33m         \u001b[1;32mraise\u001b[0m \u001b[0mpulp\u001b[0m\u001b[1;33m.\u001b[0m\u001b[0mPulpError\u001b[0m\u001b[1;33m(\u001b[0m\u001b[1;34m\"Tests Failed\"\u001b[0m\u001b[1;33m)\u001b[0m\u001b[1;33m\u001b[0m\u001b[1;33m\u001b[0m\u001b[0m\n\u001b[0m\u001b[0;32m     12\u001b[0m \u001b[1;33m\u001b[0m\u001b[0m\n\u001b[0;32m     13\u001b[0m \u001b[1;32mdef\u001b[0m \u001b[0mget_test_suit\u001b[0m\u001b[1;33m(\u001b[0m\u001b[0mtest_docs\u001b[0m\u001b[1;33m=\u001b[0m\u001b[1;32mFalse\u001b[0m\u001b[1;33m)\u001b[0m\u001b[1;33m:\u001b[0m\u001b[1;33m\u001b[0m\u001b[1;33m\u001b[0m\u001b[0m\n",
      "\u001b[1;31mPulpError\u001b[0m: Tests Failed"
     ]
    }
   ],
   "source": [
    "pulp.pulpTestAll()"
   ]
  },
  {
   "cell_type": "markdown",
   "metadata": {
    "id": "JHP3Y3Yh-stH"
   },
   "source": [
    "# Zadania:\n",
    "\n",
    "1. przeczytaj materiały dotyczące pulp ze strony internetowej https://coin-or.github.io/pulp/main/index.html oraz przejdź przez blending problem (przepisz do swojego notebooka)\n",
    "\n",
    "2. w blending problem dodaj zmienną decyzyjną. Stwórz zmienną która pojawi się w końcowym składzie produktu (tj. wartość zmiennej będzie miała niezerową postać)\n",
    "\n",
    "3. Dodaj ograniczenie co do zawartości witaminy B \n",
    "\n",
    "Zawartość:\n",
    "\n",
    "| Nazwa      | zawartość ug/100g |\n",
    "|------------|-------------------|\n",
    "| chicken    | 0.3               |\n",
    "| beef       | 2.6               |\n",
    "| mutton     | 2.6               |\n",
    "| rice       | 0                 |\n",
    "| wheat bran | 0                 |\n",
    "| gel        | 0                 |\n",
    "| sardines   | 8.9               |\n",
    "\n",
    "Kot ma zjeść minimum 0.24 ug na kilogram masy więc około\n",
    "0.8 ug dziennie\n",
    "\n",
    "4. Na końcu ma pojawiać się zdanie podsumowujące wynik, w stylu:\n",
    "Końcowy produkt będzie kosztować {}, będzie miał w składzie {nazwa}: {} %, {nastepna nazwa}: {} %\n",
    "\n",
    "Takie zdanie można skleić z części generowanych automatycznie:\n",
    "\n"
   ]
  },
  {
   "cell_type": "code",
   "execution_count": 5,
   "metadata": {
    "colab": {
     "base_uri": "https://localhost:8080/",
     "height": 53
    },
    "id": "BhWf9b8IMJZ7",
    "outputId": "c4e437d7-32da-4e82-b320-cbbfe1a50941"
   },
   "outputs": [
    {
     "name": "stdout",
     "output_type": "stream",
     "text": [
      "['jabłko:5', 'banan:10']\n",
      "jabłko:5, banan:10\n"
     ]
    }
   ],
   "source": [
    "sklejone_produkt_cena = [\":\".join((produkt, str(cena))) for produkt,cena in zip([\"jabłko\",\"banan\"],[5,10])]\n",
    "print(sklejone_produkt_cena)\n",
    "sklejona_calosc = \", \".join(sklejone_produkt_cena)\n",
    "\n",
    "print(sklejona_calosc)"
   ]
  },
  {
   "cell_type": "code",
   "execution_count": 6,
   "metadata": {
    "id": "Se_t7o8bTLdW"
   },
   "outputs": [
    {
     "name": "stdout",
     "output_type": "stream",
     "text": [
      "Status: Optimal\n",
      "BeefPercent = 58.0\n",
      "ChickenPercent = 17.0\n",
      "MuttonPercent = 25.0\n",
      "Total Cost of Ingredients per can =  0.935\n"
     ]
    }
   ],
   "source": [
    "\"\"\"\n",
    "The Simplified Whiskas Model Python Formulation for the PuLP Modeller\n",
    "\n",
    "Authors: Antony Phillips, Dr Stuart Mitchell  2007\n",
    "\"\"\"\n",
    "\n",
    "# Import PuLP modeler functions\n",
    "from pulp import *\n",
    "\n",
    "# Create the 'prob' variable to contain the problem data\n",
    "prob = LpProblem(\"TheWhiskasProblem\",LpMinimize)\n",
    "\n",
    "# The 2 variables Beef and Chicken are created with a lower limit of zero\n",
    "x1=LpVariable(\"ChickenPercent\",0,None,LpInteger)\n",
    "x2=LpVariable(\"BeefPercent\",0)\n",
    "x3=LpVariable(\"MuttonPercent\",0,25,LpInteger) # Baranina; konieczne było dodanie ograniczenia, inaczej kurczak nie był uwzględniany\n",
    "\n",
    "# The objective function is added to 'prob' first\n",
    "prob += 0.013*x1 + 0.008*x2 + 0.010*x3, \"Total Cost of Ingredients per can\" # Dodano baraninę (x3)\n",
    "\n",
    "# The five constraints are entered\n",
    "prob += x1 + x2 + x3 == 100, \"PercentagesSum\"\n",
    "prob += 0.100*x1 + 0.200*x2 + 0.165*x3 >= 8.0, \"ProteinRequirement\"\n",
    "prob += 0.080*x1 + 0.100*x2 + 0.165*x3 >= 6.0, \"FatRequirement\"\n",
    "prob += 0.001*x1 + 0.005*x2 + 0.000*x3 <= 2.0, \"FibreRequirement\"\n",
    "prob += 0.002*x1 + 0.005*x2 + 0.003*x3 <= 0.4, \"SaltRequirement\" # Zawartość soli dla baraniny wymyślono\n",
    "prob += 0.003*x1 + 0.026*x2 + 0.089*x3 >= 0.8, \"VitamineBRequirement\" # Wymagania co do witaminy B w mikrogramach\n",
    "\n",
    "# The problem data is written to an .lp file\n",
    "prob.writeLP(\"WhiskasModel.lp\")\n",
    "\n",
    "# The problem is solved using PuLP's choice of Solver\n",
    "prob.solve()\n",
    "\n",
    "# The status of the solution is printed to the screen\n",
    "print (\"Status:\", LpStatus[prob.status])\n",
    "      \n",
    "# Each of the variables is printed with it's resolved optimum value\n",
    "for v in prob.variables():\n",
    "    print (v.name, \"=\", v.varValue)\n",
    "    \n",
    "# The optimised objective function value is printed to the screen\n",
    "print (\"Total Cost of Ingredients per can = \", value(prob.objective))"
   ]
  },
  {
   "cell_type": "code",
   "execution_count": 1,
   "metadata": {},
   "outputs": [
    {
     "name": "stderr",
     "output_type": "stream",
     "text": [
      "E:\\Anaconda3\\lib\\site-packages\\pulp\\pulp.py:1198: UserWarning: Spaces are not permitted in the name. Converted to '_'\n",
      "  warnings.warn(\"Spaces are not permitted in the name. Converted to '_'\")\n"
     ]
    },
    {
     "name": "stdout",
     "output_type": "stream",
     "text": [
      "Status: Optimal\n",
      "Ingr_BEEF = 50.0\n",
      "Ingr_CHICKEN = 0.0\n",
      "Ingr_GEL = 37.5\n",
      "Ingr_MUTTON = 0.0\n",
      "Ingr_RICE = 0.0\n",
      "Ingr_SARDINES = 12.5\n",
      "Ingr_WHEAT = 0.0\n",
      "Total Cost of Ingredients per can =  0.475\n",
      "\n",
      "Końcowy produkt będzie kosztować: 0.475\n",
      "Zawartość poszczególnych składników w procentach:\n",
      "BEEF = 50.0\n",
      "CHICKEN = 0.0\n",
      "GEL = 37.5\n",
      "MUTTON = 0.0\n",
      "RICE = 0.0\n",
      "SARDINES = 12.5\n",
      "WHEAT = 0.0\n"
     ]
    }
   ],
   "source": [
    "\"\"\"\n",
    "The Full Whiskas Model Python Formulation for the PuLP Modeller\n",
    "\n",
    "Authors: Antony Phillips, Dr Stuart Mitchell  2007\n",
    "\"\"\"\n",
    "\n",
    "# Import PuLP modeler functions\n",
    "from pulp import *\n",
    "\n",
    "# Creates a list of the Ingredients\n",
    "Ingredients = ['CHICKEN', 'BEEF', 'MUTTON', 'RICE', 'WHEAT', 'GEL', 'SARDINES']\n",
    "\n",
    "# Wszystkie wartości dla sardynek są wymyślone!\n",
    "\n",
    "# A dictionary of the costs of each of the Ingredients is created\n",
    "costs = {'CHICKEN': 0.013, \n",
    "         'BEEF': 0.008, \n",
    "         'MUTTON': 0.010, \n",
    "         'RICE': 0.002, \n",
    "         'WHEAT': 0.005, \n",
    "         'GEL': 0.001,\n",
    "         'SARDINES': 0.003}\n",
    "\n",
    "# A dictionary of the protein percent in each of the Ingredients is created\n",
    "proteinPercent = {'CHICKEN': 0.100, \n",
    "                  'BEEF': 0.200, \n",
    "                  'MUTTON': 0.150, \n",
    "                  'RICE': 0.000, \n",
    "                  'WHEAT': 0.040, \n",
    "                  'GEL': 0.000,\n",
    "                  'SARDINES': 0.150}\n",
    "\n",
    "# A dictionary of the fat percent in each of the Ingredients is created\n",
    "fatPercent = {'CHICKEN': 0.080, \n",
    "              'BEEF': 0.100, \n",
    "              'MUTTON': 0.110, \n",
    "              'RICE': 0.010, \n",
    "              'WHEAT': 0.010, \n",
    "              'GEL': 0.000,\n",
    "              'SARDINES': 0.080}\n",
    "\n",
    "# A dictionary of the fibre percent in each of the Ingredients is created\n",
    "fibrePercent = {'CHICKEN': 0.001, \n",
    "                'BEEF': 0.005, \n",
    "                'MUTTON': 0.003, \n",
    "                'RICE': 0.100, \n",
    "                'WHEAT': 0.150, \n",
    "                'GEL': 0.000,\n",
    "                'SARDINES': 0.024}\n",
    "\n",
    "# A dictionary of the salt percent in each of the Ingredients is created\n",
    "saltPercent = {'CHICKEN': 0.002, \n",
    "               'BEEF': 0.005, \n",
    "               'MUTTON': 0.007, \n",
    "               'RICE': 0.002, \n",
    "               'WHEAT': 0.008, \n",
    "               'GEL': 0.000,\n",
    "               'SARDINES': 0.012}\n",
    "\n",
    "# A dictionary of the Vitamine B percent in each of the Ingredients is created\n",
    "bPercent = {'CHICKEN': 0.003, \n",
    "               'BEEF': 0.026, \n",
    "               'MUTTON': 0.026, \n",
    "               'RICE': 0.000, \n",
    "               'WHEAT': 0.000, \n",
    "               'GEL': 0.000,\n",
    "               'SARDINES': 0.069}\n",
    "\n",
    "# Create the 'prob' variable to contain the problem data\n",
    "prob = LpProblem(\"The Whiskas Problem\", LpMinimize)\n",
    "\n",
    "# A dictionary called 'ingredient_vars' is created to contain the referenced Variables\n",
    "ingredient_vars = LpVariable.dicts(\"Ingr\",Ingredients,0)\n",
    "\n",
    "# The objective function is added to 'prob' first\n",
    "prob += lpSum([costs[i]*ingredient_vars[i] for i in Ingredients]), \"Total Cost of Ingredients per can\"\n",
    "\n",
    "# The five constraints are added to 'prob'\n",
    "prob += lpSum([ingredient_vars[i] for i in Ingredients]) == 100, \"PercentagesSum\"\n",
    "prob += lpSum([proteinPercent[i] * ingredient_vars[i] for i in Ingredients]) >= 8.0, \"ProteinRequirement\"\n",
    "prob += lpSum([fatPercent[i] * ingredient_vars[i] for i in Ingredients]) >= 6.0, \"FatRequirement\"\n",
    "prob += lpSum([fibrePercent[i] * ingredient_vars[i] for i in Ingredients]) <= 2.0, \"FibreRequirement\"\n",
    "prob += lpSum([saltPercent[i] * ingredient_vars[i] for i in Ingredients]) <= 0.4, \"SaltRequirement\"\n",
    "prob += lpSum([bPercent[i] * ingredient_vars[i] for i in Ingredients]) >= 0.8, \"VitBRequirement\"\n",
    "\n",
    "# The problem data is written to an .lp file\n",
    "prob.writeLP(\"WhiskasModel2.lp\")\n",
    "\n",
    "# The problem is solved using PuLP's choice of Solver\n",
    "prob.solve()\n",
    "\n",
    "# The status of the solution is printed to the screen\n",
    "print (\"Status:\", LpStatus[prob.status])\n",
    "\n",
    "# Each of the variables is printed with it's resolved optimum value\n",
    "for v in prob.variables():\n",
    "    print (v.name, \"=\", v.varValue)\n",
    "    \n",
    "# The optimised objective function value is printed to the screen\n",
    "print (\"Total Cost of Ingredients per can = \", value(prob.objective))\n",
    "\n",
    "#sklejone_produkt_cena = [\":\".join((produkt, str(cena))) for produkt,cena in zip([\"jabłko\",\"banan\"],[5,10])]\n",
    "#print(sklejone_produkt_cena)\n",
    "#sklejona_calosc = \", \".join(sklejone_produkt_cena)\n",
    "\n",
    "#print(sklejona_calosc)\n",
    "print (\"\\nKońcowy produkt będzie kosztować: {}\".format(value(prob.objective)))\n",
    "print (\"Zawartość poszczególnych składników w procentach:\")\n",
    "for v in prob.variables():\n",
    "    x = v.name.split(sep = \"_\", maxsplit = 2)\n",
    "    print (x[1], \"=\", v.varValue)\n",
    "\n"
   ]
  },
  {
   "cell_type": "code",
   "execution_count": 8,
   "metadata": {},
   "outputs": [
    {
     "name": "stdout",
     "output_type": "stream",
     "text": [
      "Status: Optimal\n",
      "AluminiumWindow = 2.0\n",
      "WoodenWindow = 6.0\n",
      "Possible maximum earnings (in thousands of dollars):  36.0\n"
     ]
    }
   ],
   "source": [
    "# okna - ver1\n",
    "\n",
    "from pulp import *\n",
    "\n",
    "# Create the 'prob' variable to contain the problem data\n",
    "prob = LpProblem(\"WindowProduction\",LpMaximize)\n",
    "\n",
    "x1=LpVariable(\"AluminiumWindow\",0,None,LpInteger)\n",
    "x2=LpVariable(\"WoodenWindow\",0,None,LpInteger)\n",
    "\n",
    "prob += 3*x1 + 5*x2, \"MaxEarnings\"\n",
    "prob += x1 <= 4, \"1stManufacturer\"\n",
    "prob += 2*x2 <= 12, \"2ndManufacturer\"\n",
    "prob += 3*x1 + 2*x2 <= 18, \"3rdManufacturer\"\n",
    "\n",
    "prob.writeLP(\"WindowProduction.lp\")\n",
    "prob.solve()\n",
    "\n",
    "print (\"Status:\", LpStatus[prob.status])\n",
    "\n",
    "for v in prob.variables():\n",
    "    print (v.name, \"=\", v.varValue)\n",
    "    \n",
    "print (\"Possible maximum earnings (in thousands of dollars): \", value(prob.objective))\n"
   ]
  },
  {
   "cell_type": "code",
   "execution_count": null,
   "metadata": {},
   "outputs": [],
   "source": []
  },
  {
   "cell_type": "code",
   "execution_count": 2,
   "metadata": {},
   "outputs": [
    {
     "data": {
      "application/vnd.jupyter.widget-view+json": {
       "model_id": "2c207c7cc59042599a0c07bd523f932e",
       "version_major": 2,
       "version_minor": 0
      },
      "text/plain": [
       "interactive(children=(IntSlider(value=3000, description='Aluminium window price', max=10000), IntSlider(value=…"
      ]
     },
     "metadata": {},
     "output_type": "display_data"
    },
    {
     "data": {
      "text/plain": [
       "<function __main__.data(aluPrice=3000, woodPrice=5000, alu1CompanyHours=1, alu2CompanyHours=0, alu3CompanyHours=3, wood1CompanyHours=0, wood2CompanyHours=2, wood3CompanyHours=2, Company1Hours=4, Company2Hours=12, Company3Hours=18)>"
      ]
     },
     "execution_count": 2,
     "metadata": {},
     "output_type": "execute_result"
    }
   ],
   "source": [
    "# okna - ver2\n",
    "\n",
    "from pulp import *\n",
    "import ipywidgets as widgets\n",
    "from __future__ import print_function\n",
    "from ipywidgets import interact, interactive, fixed, interact_manual\n",
    "\n",
    "aluPriceSlider = widgets.IntSlider(value = 3000, min = 0, max = 10000, step = 1, description = \"Aluminium window price\")\n",
    "woodPriceSlider = widgets.IntSlider(value = 5000, min = 0, max = 10000, step = 1, description = \"Wooden window price\")\n",
    "alu1CompanyHoursSlider = widgets.IntSlider(value = 1, min = 0, max = 10, step = 1, description = \"How long (in hours) does it take to make 1 series of aluminium windows in the 1st company?\")\n",
    "alu2CompanyHoursSlider = widgets.IntSlider(value = 0, min = 0, max = 10, step = 1, description = \"How long (in hours) does it take to make 1 series of aluminium windows in the 2st company?\")\n",
    "alu3CompanyHoursSlider = widgets.IntSlider(value = 3, min = 0, max = 10, step = 1, description = \"How long (in hours) does it take to make 1 series of aluminium windows in the 3st company?\")\n",
    "wood1CompanyHoursSlider = widgets.IntSlider(value = 0, min = 0, max = 10, step = 1, description = \"How long (in hours) does it take to make 1 series of wooden windows in the 1st company?\")\n",
    "wood2CompanyHoursSlider = widgets.IntSlider(value = 2, min = 0, max = 10, step = 1, description = \"How long (in hours) does it take to make 1 series of wooden windows in the 2st company?\")\n",
    "wood3CompanyHoursSlider = widgets.IntSlider(value = 2, min = 0, max = 10, step = 1, description = \"How long (in hours) does it take to make 1 series of wooden windows in the 3st company?\")\n",
    "Company1HoursSlider = widgets.IntSlider(value = 4, min = 0, max = 10, step = 1, description = \"How much time (in hours) does a 1st company have?\")\n",
    "Company2HoursSlider = widgets.IntSlider(value = 12, min = 0, max = 10, step = 1, description = \"How much time (in hours) does a 2nd company have?\")\n",
    "Company3HoursSlider = widgets.IntSlider(value = 18, min = 0, max = 10, step = 1, description = \"How much time (in hours) does a 3rd company have?\")\n",
    "\n",
    "def data(aluPrice = 3000,\n",
    "        woodPrice = 5000,\n",
    "        alu1CompanyHours = 1,\n",
    "        alu2CompanyHours = 0,\n",
    "        alu3CompanyHours = 3,\n",
    "        wood1CompanyHours = 0,\n",
    "        wood2CompanyHours = 2,\n",
    "        wood3CompanyHours = 2,\n",
    "        Company1Hours = 4,\n",
    "        Company2Hours = 12,\n",
    "        Company3Hours = 18):\n",
    "    \n",
    "    prob = LpProblem(\"WindowProduction\",LpMaximize)\n",
    "\n",
    "    x1=LpVariable(\"AluminiumWindow\",0,None,LpInteger)\n",
    "    x2=LpVariable(\"WoodenWindow\",0,None,LpInteger)\n",
    "\n",
    "    prob += aluPrice*x1 + woodPrice*x2, \"MaxEarnings\"\n",
    "    prob += alu1CompanyHours*x1 + wood1CompanyHours*x2 <= Company1Hours, \"1stManufacturer\"\n",
    "    prob += alu2CompanyHours*x1 + wood2CompanyHours*x2 <= Company2Hours, \"2ndManufacturer\"\n",
    "    prob += alu3CompanyHours*x1 + wood3CompanyHours*x2 <= Company3Hours, \"3rdManufacturer\"\n",
    "\n",
    "    prob.writeLP(\"WindowProduction.lp\")\n",
    "    prob.solve()\n",
    "\n",
    "    print (\"Status:\", LpStatus[prob.status])\n",
    "\n",
    "    for v in prob.variables():\n",
    "        print (v.name, \"=\", v.varValue)\n",
    "    \n",
    "    print (\"Possible maximum earnings (in thousands of dollars): \", value(prob.objective))\n",
    "\n",
    "interact(data, aluPrice = aluPriceSlider,\n",
    "        woodPrice = woodPriceSlider,\n",
    "        alu1CompanyHours = alu1CompanyHoursSlider,\n",
    "        alu2CompanyHours = alu2CompanyHoursSlider,\n",
    "        alu3CompanyHours = alu3CompanyHoursSlider,\n",
    "        wood1CompanyHours = wood1CompanyHoursSlider,\n",
    "        wood2CompanyHours = wood2CompanyHoursSlider,\n",
    "        wood3CompanyHours = wood3CompanyHoursSlider,\n",
    "        Company1Hours = Company1HoursSlider,\n",
    "        Company2Hours = Company2HoursSlider,\n",
    "        Company3Hours = Company3HoursSlider)"
   ]
  },
  {
   "cell_type": "code",
   "execution_count": 2,
   "metadata": {},
   "outputs": [
    {
     "name": "stdout",
     "output_type": "stream",
     "text": [
      "Status: Infeasible\n",
      "Res1Curr = 1.7142857\n",
      "Res2Curr = 2.2857143\n",
      "Res3Curr = 4.0\n",
      "Res4Curr = 1.7777778\n",
      "Res5Curr = 2.2222222\n",
      "__dummy = None\n"
     ]
    }
   ],
   "source": [
    "# maksymalny prąd\n",
    "\n",
    "from pulp import *\n",
    "\n",
    "# Create the 'prob' variable to contain the problem data\n",
    "prob = LpProblem(\"MaxCurrent\", LpMaximize)\n",
    "\n",
    "x1 = LpVariable(\"Res1Curr\", 0, 2, LpContinuous)\n",
    "x2 = LpVariable(\"Res2Curr\", 0, 3, LpContinuous)\n",
    "x3 = LpVariable(\"Res3Curr\", 0, 4, LpContinuous)\n",
    "x4 = LpVariable(\"Res4Curr\", 0, 2, LpContinuous)\n",
    "x5 = LpVariable(\"Res5Curr\", 0, 2, LpContinuous)\n",
    "\n",
    "prob += x1 + x2 == x3, \"1st equation from Kirchoff's Current Law\"\n",
    "prob += x4 + x5 == x3, \"2nd equation from Kirchoff's Current Law\"\n",
    "\n",
    "prob += 8*x1 - 6*x2 == 0, \"1st equation from Kirchoff's Voltage Law\"\n",
    "prob += 10*x4 - 8*x5 == 0, \"2nd equation from Kirchoff's Voltage Law\"\n",
    "\n",
    "prob += x3 == 4, \"Maximum current\"\n",
    "\n",
    "prob.writeLP(\"CurrentMaximization.lp\")\n",
    "prob.solve()\n",
    "\n",
    "print (\"Status:\", LpStatus[prob.status])\n",
    "\n",
    "for v in prob.variables():\n",
    "    print (v.name, \"=\", v.varValue)\n"
   ]
  },
  {
   "cell_type": "code",
   "execution_count": 1,
   "metadata": {},
   "outputs": [
    {
     "name": "stdout",
     "output_type": "stream",
     "text": [
      "Status: Optimal\n",
      "Res1Curr = 3.0\n",
      "Res2Curr = 1.0\n",
      "Res3Curr = 1.0\n",
      "Res4Curr = 1.0\n",
      "Res5Curr = 3.0\n",
      "Resistance no. 1 (in kOhms): 2.0\n",
      "Resistance no. 2 (in kOhms): 10.0\n",
      "Resistance no. 3 (in kOhms): 4.0\n",
      "Resistance no. 4 (in kOhms): 7.0\n",
      "Resistance no. 5 (in kOhms): 1.0\n"
     ]
    }
   ],
   "source": [
    "# minimalizacja mocy rozproszenia\n",
    "\n",
    "from pulp import *\n",
    "\n",
    "voltageValues = [6, 10, 4, 7, 3]\n",
    "currentValues = [0, 0, 0, 0 ,0]\n",
    "\n",
    "# Create the 'prob' variable to contain the problem data\n",
    "prob = LpProblem(\"MinHeat\", LpMinimize)\n",
    "\n",
    "x1 = LpVariable(\"Res1Curr\", 3, 5, LpContinuous)\n",
    "x2 = LpVariable(\"Res2Curr\", 1, 3, LpContinuous)\n",
    "x3 = LpVariable(\"Res3Curr\", 1, 4, LpContinuous)\n",
    "x4 = LpVariable(\"Res4Curr\", 1, 2, LpContinuous)\n",
    "x5 = LpVariable(\"Res5Curr\", 3, 5, LpContinuous)\n",
    "\n",
    "\n",
    "prob += (x1 * 6) + (x2 * 10) + (x3 * 4) + (x4 * 7) + (x5 * 3), \"Power equation\"\n",
    "\n",
    "prob.writeLP(\"PowerMinimalization.lp\")\n",
    "prob.solve()\n",
    "\n",
    "print (\"Status:\", LpStatus[prob.status])\n",
    "\n",
    "i = 0\n",
    "for v in prob.variables():\n",
    "    print (v.name, \"=\", v.varValue)\n",
    "    currentValues[i] = v.varValue\n",
    "    i = i + 1\n",
    "    \n",
    "    \n",
    "i = 0    \n",
    "for x in currentValues:\n",
    "    print (\"Resistance no.\", i+1 , \"(in kOhms):\", voltageValues[i]/currentValues[i])\n",
    "    i = i + 1\n",
    "    \n"
   ]
  },
  {
   "cell_type": "code",
   "execution_count": 19,
   "metadata": {
    "scrolled": false
   },
   "outputs": [
    {
     "name": "stdout",
     "output_type": "stream",
     "text": [
      "Status: Optimal\n",
      "AniaPon = 1.0\n",
      "HektorPt = 1.0\n",
      "LidiaŚr = 1.0\n",
      "OlafPon = 1.0\n",
      "PiotrCzw = 1.0\n",
      "PiotrPt = 1.0\n",
      "PiotrWt = 1.0\n",
      "StefanPt = 1.0\n"
     ]
    }
   ],
   "source": [
    "# plan lekcji\n",
    "\n",
    "from pulp import *\n",
    "\n",
    "employees = [\"Ania\", \"Stefan\", \"Hektor\", \"Olaf\", \"Lidia\", \"Piotr\"] # employees names\n",
    "weekdays = [\"Pon\", \"Wt\", \"Śr\", \"Czw\", \"Pt\"] # weekdays \n",
    "\n",
    "wage = [100, 50, 60, 40, 11, 70] # how much money each employee wants per hour\n",
    "availability = [[1,1,1,1,0,1], [1,0,1,1,0,1], [1,0,1,1,0,1], [1,0,0,1,1,0], [1,0,0,1,1,0]] # when each employee can work [day][employee]\n",
    "peopleLimit = [2,1,1,1,3] # how many employees can work each weekday\n",
    "varLP = []\n",
    "\n",
    "prob = LpProblem(\"WeekPayment\", LpMinimize)\n",
    "\n",
    "for name in employees:\n",
    "    for day in weekdays:\n",
    "        variableName = name + day\n",
    "        varLP.append(LpVariable(variableName, 0, 1, LpInteger))\n",
    "\n",
    "for i in range(0, 6):                        \n",
    "    prob += varLP[0+5*i] + varLP[1+5*i] + varLP[2+5*i] + varLP[3+5*i] + varLP[4+5*i] <= 3, (\"Worker \" + employees[i] + \" limit (max. 3 times)\")\n",
    "    \n",
    "for i in range(0, 5):\n",
    "    prob += varLP[i] + varLP[i+5] + varLP[i+10] + varLP[i+15] + varLP[i+20] + varLP[i+25] == peopleLimit[i], (\"Day \" + str(i) + \" employee limit\")\n",
    "\n",
    "for i in range(0, 5):\n",
    "    prob += (varLP[i] * availability[i][0] * wage[0]) + (varLP[i+5] * availability[i][1] * wage[1]) + (varLP[i+10] * availability[i][2] * wage[2]) + (varLP[i+15] * availability[i][3] * wage[3]) + (varLP[i+20] * availability[i][4] * wage[4]) + (varLP[i+25] * availability[i][5] * wage[5]), (str(weekdays[i]) + \" calculation\")\n",
    "    \n",
    "prob.writeLP(\"WeekPayment.lp\")\n",
    "prob.solve()\n",
    "\n",
    "print (\"Status:\", LpStatus[prob.status])\n",
    "\n",
    "for v in prob.variables():\n",
    "    if (v.varValue == 1):\n",
    "        print (v.name, \"=\", v.varValue)\n",
    "\n",
    "    "
   ]
  },
  {
   "cell_type": "code",
   "execution_count": null,
   "metadata": {},
   "outputs": [],
   "source": []
  },
  {
   "cell_type": "code",
   "execution_count": null,
   "metadata": {},
   "outputs": [],
   "source": []
  },
  {
   "cell_type": "code",
   "execution_count": null,
   "metadata": {},
   "outputs": [],
   "source": []
  },
  {
   "cell_type": "code",
   "execution_count": null,
   "metadata": {},
   "outputs": [],
   "source": []
  }
 ],
 "metadata": {
  "colab": {
   "collapsed_sections": [],
   "name": "instalacja pierwsze ćwiczenia z Pulp",
   "provenance": []
  },
  "kernelspec": {
   "display_name": "Python 3",
   "language": "python",
   "name": "python3"
  },
  "language_info": {
   "codemirror_mode": {
    "name": "ipython",
    "version": 3
   },
   "file_extension": ".py",
   "mimetype": "text/x-python",
   "name": "python",
   "nbconvert_exporter": "python",
   "pygments_lexer": "ipython3",
   "version": "3.8.3"
  }
 },
 "nbformat": 4,
 "nbformat_minor": 1
}
